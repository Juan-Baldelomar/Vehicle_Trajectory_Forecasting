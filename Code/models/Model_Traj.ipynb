{
  "nbformat": 4,
  "nbformat_minor": 0,
  "metadata": {
    "colab": {
      "name": "Model_Traj.ipynb",
      "provenance": [],
      "collapsed_sections": []
    },
    "kernelspec": {
      "name": "python3",
      "display_name": "Python 3"
    },
    "language_info": {
      "name": "python"
    },
    "accelerator": "GPU"
  },
  "cells": [
    {
      "cell_type": "code",
      "metadata": {
        "id": "0NVsPhIdQW8-",
        "colab": {
          "base_uri": "https://localhost:8080/"
        },
        "outputId": "ac7b3ec9-1ec2-4662-dce5-e62bce125e2b"
      },
      "source": [
        "# needed libraries\n",
        "import numpy as np\n",
        "import tensorflow as tf\n",
        "from tensorflow import keras\n",
        "from tensorflow.keras import layers\n",
        "from tensorflow.keras.layers import Dense, Conv2D, Conv2DTranspose\n",
        "from tensorflow.keras.layers import Flatten, Reshape, Dropout, BatchNormalization, Activation, LeakyReLU\n",
        "\n",
        "# utilities\n",
        "import os\n",
        "import random\n",
        "from glob import glob\n",
        "import matplotlib.pyplot as plt\n",
        "import pathlib\n",
        "import time\n",
        "import datetime\n",
        "\n",
        "from IPython import display\n",
        "\n",
        "gpu_available = tf.config.list_physical_devices('GPU')\n",
        "print(gpu_available)"
      ],
      "execution_count": null,
      "outputs": [
        {
          "output_type": "stream",
          "name": "stdout",
          "text": [
            "[PhysicalDevice(name='/physical_device:GPU:0', device_type='GPU')]\n"
          ]
        }
      ]
    },
    {
      "cell_type": "code",
      "source": [
        "seed = 65\n",
        "random.seed(seed)\n",
        "np.random.seed(seed)\n",
        "tf.random.set_seed(seed)"
      ],
      "metadata": {
        "id": "P4qi0qK6rpbI"
      },
      "execution_count": null,
      "outputs": []
    },
    {
      "cell_type": "code",
      "metadata": {
        "colab": {
          "base_uri": "https://localhost:8080/"
        },
        "id": "aW82hZgkZco1",
        "outputId": "5bfe57a7-1a61-4c4d-89b9-2910dbb71f9b"
      },
      "source": [
        "from google.colab import drive\n",
        "drive._mount('/content/drive')"
      ],
      "execution_count": null,
      "outputs": [
        {
          "output_type": "stream",
          "name": "stdout",
          "text": [
            "Drive already mounted at /content/drive; to attempt to forcibly remount, call drive.mount(\"/content/drive\", force_remount=True).\n"
          ]
        }
      ]
    },
    {
      "cell_type": "code",
      "source": [
        "!pip3 install pickle5\n",
        "import pickle5 as pickle\n",
        "\n",
        "# store processed data in pkl files\n",
        "def save_pkl_data(data, filename):\n",
        "    with open(filename, 'wb') as file:\n",
        "        pickle.dump(data, file, pickle.HIGHEST_PROTOCOL)\n",
        "        print(\"data stored succesfully to: \", filename)\n",
        "\n",
        "\n",
        "# read processed data in pkl files\n",
        "def load_pkl_data(filename):\n",
        "    with open(filename, 'rb') as file:\n",
        "        data = pickle.load(file)\n",
        "    return data"
      ],
      "metadata": {
        "colab": {
          "base_uri": "https://localhost:8080/"
        },
        "id": "trLxIedJysba",
        "outputId": "73d2d79e-a12c-4b25-fc78-7d0d069ed568"
      },
      "execution_count": null,
      "outputs": [
        {
          "output_type": "stream",
          "name": "stdout",
          "text": [
            "Collecting pickle5\n",
            "  Downloading pickle5-0.0.12-cp37-cp37m-manylinux_2_5_x86_64.manylinux1_x86_64.whl (256 kB)\n",
            "\u001b[?25l\r\u001b[K     |█▎                              | 10 kB 25.8 MB/s eta 0:00:01\r\u001b[K     |██▋                             | 20 kB 8.9 MB/s eta 0:00:01\r\u001b[K     |███▉                            | 30 kB 7.6 MB/s eta 0:00:01\r\u001b[K     |█████▏                          | 40 kB 3.5 MB/s eta 0:00:01\r\u001b[K     |██████▍                         | 51 kB 3.6 MB/s eta 0:00:01\r\u001b[K     |███████▊                        | 61 kB 4.3 MB/s eta 0:00:01\r\u001b[K     |█████████                       | 71 kB 4.6 MB/s eta 0:00:01\r\u001b[K     |██████████▎                     | 81 kB 4.8 MB/s eta 0:00:01\r\u001b[K     |███████████▌                    | 92 kB 5.3 MB/s eta 0:00:01\r\u001b[K     |████████████▉                   | 102 kB 3.9 MB/s eta 0:00:01\r\u001b[K     |██████████████                  | 112 kB 3.9 MB/s eta 0:00:01\r\u001b[K     |███████████████▍                | 122 kB 3.9 MB/s eta 0:00:01\r\u001b[K     |████████████████▋               | 133 kB 3.9 MB/s eta 0:00:01\r\u001b[K     |██████████████████              | 143 kB 3.9 MB/s eta 0:00:01\r\u001b[K     |███████████████████▏            | 153 kB 3.9 MB/s eta 0:00:01\r\u001b[K     |████████████████████▌           | 163 kB 3.9 MB/s eta 0:00:01\r\u001b[K     |█████████████████████▊          | 174 kB 3.9 MB/s eta 0:00:01\r\u001b[K     |███████████████████████         | 184 kB 3.9 MB/s eta 0:00:01\r\u001b[K     |████████████████████████▎       | 194 kB 3.9 MB/s eta 0:00:01\r\u001b[K     |█████████████████████████▋      | 204 kB 3.9 MB/s eta 0:00:01\r\u001b[K     |██████████████████████████▉     | 215 kB 3.9 MB/s eta 0:00:01\r\u001b[K     |████████████████████████████▏   | 225 kB 3.9 MB/s eta 0:00:01\r\u001b[K     |█████████████████████████████▍  | 235 kB 3.9 MB/s eta 0:00:01\r\u001b[K     |██████████████████████████████▊ | 245 kB 3.9 MB/s eta 0:00:01\r\u001b[K     |████████████████████████████████| 256 kB 3.9 MB/s eta 0:00:01\r\u001b[K     |████████████████████████████████| 256 kB 3.9 MB/s \n",
            "\u001b[?25hInstalling collected packages: pickle5\n",
            "Successfully installed pickle5-0.0.12\n"
          ]
        }
      ]
    },
    {
      "cell_type": "code",
      "source": [
        "cubes = load_pkl_data('nusc_multiple_agents_inp.pkl') "
      ],
      "metadata": {
        "id": "x7yfHGkBzd3y"
      },
      "execution_count": null,
      "outputs": []
    },
    {
      "cell_type": "markdown",
      "source": [
        "# Masking"
      ],
      "metadata": {
        "id": "Nux0ZPWEkULg"
      }
    },
    {
      "cell_type": "code",
      "source": [
        "def get_look_ahead_mask(input):\n",
        "  input_shape = list(input.shape)[:-1]\n",
        "  input_shape.insert(-1, input_shape[-1])\n",
        "  input_shape.insert(1, 1)\n",
        "  mask = 1 - tf.linalg.band_part(tf.ones(input_shape), -1, 0)\n",
        "  return mask"
      ],
      "metadata": {
        "id": "aP3nXwLZkSuk"
      },
      "execution_count": null,
      "outputs": []
    },
    {
      "cell_type": "code",
      "source": [
        "def adapt_spatial_mask(mask):\n",
        "  return mask[np.newaxis, : , np.newaxis, : ]         #(1 (head), seq, 1 (neighbor), neighbors) to broadcast when doing addition in the attention layer"
      ],
      "metadata": {
        "id": "XiTKrQl_TImn"
      },
      "execution_count": null,
      "outputs": []
    },
    {
      "cell_type": "code",
      "source": [
        "def adapt_seq_mask(mask):\n",
        "  return mask[np.newaxis, np.newaxis, np.newaxis, : ]   #(1 (head), 1(neighbors), 1(seq), seq)"
      ],
      "metadata": {
        "id": "8Eix_Y853Y3c"
      },
      "execution_count": null,
      "outputs": []
    },
    {
      "cell_type": "markdown",
      "source": [
        "# Positional Encoding"
      ],
      "metadata": {
        "id": "u7MKnzFQkVv5"
      }
    },
    {
      "cell_type": "code",
      "metadata": {
        "id": "0IKXnqHHQsL3"
      },
      "source": [
        "def get_angles(pos, i, d_model):\n",
        "  angle_rates = 1 / np.power(10000, (2 * (i//2)) / np.float32(d_model))\n",
        "  return pos * angle_rates"
      ],
      "execution_count": null,
      "outputs": []
    },
    {
      "cell_type": "code",
      "metadata": {
        "id": "oItHcbouQaKR"
      },
      "source": [
        "def positional_encoding(max_position, d_model):\n",
        "  angle_rads = get_angles(np.arange(max_position)[:, np.newaxis],\n",
        "                          np.arange(d_model)[np.newaxis, :],\n",
        "                          d_model)\n",
        "\n",
        "  # apply sin to even indices in the array; 2i\n",
        "  angle_rads[:, 0::2] = np.sin(angle_rads[:, 0::2])\n",
        "\n",
        "  # apply cos to odd indices in the array; 2i+1\n",
        "  angle_rads[:, 1::2] = np.cos(angle_rads[:, 1::2])\n",
        "\n",
        "  pos_encoding = angle_rads[np.newaxis, ...]\n",
        "\n",
        "  return tf.cast(pos_encoding, dtype=tf.float32)"
      ],
      "execution_count": null,
      "outputs": []
    },
    {
      "cell_type": "markdown",
      "source": [
        "# Attention"
      ],
      "metadata": {
        "id": "p-EO4nKanJbP"
      }
    },
    {
      "cell_type": "code",
      "metadata": {
        "id": "Hmod-0KwX4Yj"
      },
      "source": [
        "def ScaledDotProduct(Q, K, V, mask=None):\n",
        "    dk = tf.cast(tf.shape(K)[-1], tf.float32)\n",
        "\n",
        "    # compute attention \n",
        "    KT = tf.transpose(K, [0, 1, 2, 4, 3])                 \n",
        "    attention = tf.matmul(Q, KT)/tf.sqrt(dk)\n",
        "\n",
        "    # mask if necessary\n",
        "    if mask is not None:\n",
        "      #print(attention.shape)\n",
        "      attention += (mask * -1e9)\n",
        "\n",
        "    # compute values and weighted sum of their attention\n",
        "    weights = tf.nn.softmax(attention, axis=-1)\n",
        "    #weights = tf.nn.sigmoid(attention)\n",
        "    output = tf.matmul(weights, V)\n",
        "\n",
        "    return output, weights "
      ],
      "execution_count": null,
      "outputs": []
    },
    {
      "cell_type": "code",
      "metadata": {
        "id": "DEUnKAzX7b4I"
      },
      "source": [
        "class MultiHeadAttention(keras.layers.Layer):\n",
        "  def __init__(self, dk=256, num_heads=8):\n",
        "    super(MultiHeadAttention, self).__init__()\n",
        "    \n",
        "    # params\n",
        "    self.num_heads = num_heads\n",
        "    self.dk = dk\n",
        "    self.dk_by_head = dk//num_heads\n",
        "\n",
        "    # layers\n",
        "    self.WQ = keras.layers.Dense(dk)\n",
        "    self.WK = keras.layers.Dense(dk)\n",
        "    self.WV = keras.layers.Dense(dk)\n",
        "    self.dense = keras.layers.Dense(dk)\n",
        "    \n",
        "  def splitheads(self, x):\n",
        "    batch_size, seq_length = x.shape[0:2]\n",
        "\n",
        "    # spliting the heads done by reshaping last dimension\n",
        "    x = tf.reshape(x, (batch_size, seq_length, -1, self.num_heads, self.dk_by_head))      #(batch, seq, neighbors, head, features_by_head)\n",
        "    return tf.transpose(x, (0, 3, 1, 2, 4))                                               #(batch, head, seq, neighbors, features_by_head)\n",
        "\n",
        "  def call(self, q, k, v, mask=None):\n",
        "    batch_size, seq_length = q.shape[0:2]\n",
        "\n",
        "    # projections\n",
        "    q = self.WQ(q)\n",
        "    k = self.WK(k)\n",
        "    v = self.WV(v)\n",
        "\n",
        "    # split heads\n",
        "    q = self.splitheads(q)\n",
        "    k = self.splitheads(k)\n",
        "    v = self.splitheads(v)\n",
        "\n",
        "    # compute attention and merge heads\n",
        "    attn_output, attention = ScaledDotProduct(q, k, v, mask)                              #(batch, head, seq, neighbors, features_by_head)\n",
        "    attn_output = tf.transpose(attn_output,  (0, 2, 3, 1, 4))                             #(batch, seq, neighbors, head, features_by_head)\n",
        "    concat_output = tf.reshape(attn_output, (batch_size, seq_length, -1, self.dk))        #(batch, seq, neighbors, features)\n",
        "    output = self.dense(concat_output)\n",
        "\n",
        "    return output, attention\n"
      ],
      "execution_count": null,
      "outputs": []
    },
    {
      "cell_type": "markdown",
      "source": [
        "# Transformer Architecture"
      ],
      "metadata": {
        "id": "l7Ab42_LnOar"
      }
    },
    {
      "cell_type": "code",
      "metadata": {
        "id": "2_FFPE5rHQeI"
      },
      "source": [
        "def get_ffn(d_model, hidden_size, act_func='relu'):\n",
        "  return keras.models.Sequential([\n",
        "                                  keras.layers.Dense(hidden_size, activation=act_func),\n",
        "                                  keras.layers.Dense(d_model)\n",
        "  ], name='SEQ')"
      ],
      "execution_count": null,
      "outputs": []
    },
    {
      "cell_type": "code",
      "metadata": {
        "id": "GwYCmqYIEs5K"
      },
      "source": [
        "class EncoderLayer(keras.layers.Layer):\n",
        "  def __init__(self, dk=256, num_heads=8, hidden_layer_size=256, drop_rate=0.1):\n",
        "    super(EncoderLayer, self).__init__()\n",
        "    \n",
        "    # layers\n",
        "    self.MH = MultiHeadAttention(dk, num_heads)\n",
        "    #self.ffn = get_ffn(dk, hidden_layer_size)\n",
        "    self.normLayer1 = keras.layers.LayerNormalization(epsilon=1e-6)\n",
        "    self.normLayer2 = keras.layers.LayerNormalization(epsilon=1e-6)\n",
        "    self.dropout1 = keras.layers.Dropout(drop_rate)\n",
        "    self.dropout2 = keras.layers.Dropout(drop_rate)\n",
        "\n",
        "  def call(self, x, training, mask):\n",
        "    # multihead attention\n",
        "    attn_output, _ = self.MH(x, x, x, mask)\n",
        "    attn_output = self.dropout1(attn_output, training=training)\n",
        "    z = self.normLayer1(x + attn_output)\n",
        "    # normalization and feed forward layers\n",
        "    #output = self.ffn(z)\n",
        "    #output = self.dropout2(output, training=training)\n",
        "    #output = self.normLayer2(z + output)\n",
        "\n",
        "    return z "
      ],
      "execution_count": null,
      "outputs": []
    },
    {
      "cell_type": "code",
      "metadata": {
        "id": "98ekRaNEvMjo"
      },
      "source": [
        "sample_encoder_layer = EncoderLayer()"
      ],
      "execution_count": null,
      "outputs": []
    },
    {
      "cell_type": "code",
      "metadata": {
        "colab": {
          "base_uri": "https://localhost:8080/"
        },
        "id": "sJHE0M97vihK",
        "outputId": "668ad196-087e-4f39-f1bd-585064a50926"
      },
      "source": [
        "samp_inp = tf.random.uniform((3, 20, 6, 256))\n",
        "out = sample_encoder_layer(samp_inp, True, None)\n",
        "out.shape"
      ],
      "execution_count": null,
      "outputs": [
        {
          "output_type": "execute_result",
          "data": {
            "text/plain": [
              "TensorShape([3, 20, 6, 256])"
            ]
          },
          "metadata": {},
          "execution_count": 14
        }
      ]
    },
    {
      "cell_type": "code",
      "metadata": {
        "id": "yJhiiUwqAmvJ"
      },
      "source": [
        "class DecoderLayer(keras.layers.Layer):\n",
        "  def __init__(self, dk=256, num_heads=8, hidden_layer=256, drop_rate=0.1):\n",
        "    super(DecoderLayer, self).__init__()\n",
        "    # layers\n",
        "    self.SAMH = MultiHeadAttention(dk, num_heads)\n",
        "    self.EDMH = MultiHeadAttention(dk, num_heads)\n",
        "    #self.ffn = get_ffn(dk, hidden_layer)\n",
        "\n",
        "    self.normLayer1 = keras.layers.LayerNormalization(epsilon=1e-6)\n",
        "    self.normLayer2 = keras.layers.LayerNormalization(epsilon=1e-6)\n",
        "    self.normLayer3 = keras.layers.LayerNormalization(epsilon=1e-6)\\\n",
        "\n",
        "    self.dropout1 = keras.layers.Dropout(drop_rate)\n",
        "    self.dropout2 = keras.layers.Dropout(drop_rate)\n",
        "    self.dropout3 = keras.layers.Dropout(drop_rate)\n",
        "  \n",
        "  def call(self, x, enc_output, training, look_ahead_mask, padding_mask):\n",
        "\n",
        "    # self attention computation\n",
        "    self_attn_out, self_attn = self.SAMH(x, x, x, look_ahead_mask)\n",
        "    self_attn_out = self.dropout1(self_attn_out, training=training)\n",
        "    z = self.normLayer1(x + self_attn_out) \n",
        "\n",
        "    # encoder decoder computation\n",
        "    enc_dec_out, enc_dec_attn = self.EDMH(z, enc_output, enc_output, padding_mask)\n",
        "    enc_dec_out = self.dropout2(enc_dec_out, training=training)\n",
        "    z = self.normLayer2(z + enc_dec_out)\n",
        "\n",
        "    # feed forward computation\n",
        "    #output = self.ffn(z)\n",
        "    #output = self.dropout3(output, training=training)\n",
        "    #output = self.normLayer3(z + output)\n",
        "\n",
        "    return z, self_attn, enc_dec_attn\n"
      ],
      "execution_count": null,
      "outputs": []
    },
    {
      "cell_type": "code",
      "metadata": {
        "id": "XXerYKS7vJBC"
      },
      "source": [
        "sample_decoder_layer = DecoderLayer()"
      ],
      "execution_count": null,
      "outputs": []
    },
    {
      "cell_type": "code",
      "metadata": {
        "colab": {
          "base_uri": "https://localhost:8080/"
        },
        "id": "Y19KWa5EzF1u",
        "outputId": "8127c674-ea51-4f4c-952a-34a547d18228"
      },
      "source": [
        "dec_inp = tf.random.uniform((3, 20, 6, 256))\n",
        "out2 = sample_decoder_layer(dec_inp, out, True, None, None)\n",
        "out2[0].shape"
      ],
      "execution_count": null,
      "outputs": [
        {
          "output_type": "execute_result",
          "data": {
            "text/plain": [
              "TensorShape([3, 20, 6, 256])"
            ]
          },
          "metadata": {},
          "execution_count": 56
        }
      ]
    },
    {
      "cell_type": "code",
      "metadata": {
        "id": "-jBOAtR05aGn"
      },
      "source": [
        "class Encoder(keras.layers.Layer):\n",
        "  def __init__(self, features_size, max_size, dk_model=256, num_heads=8, num_encoders=6, \n",
        "               enc_hidden_size=256, use_pos_emb=True, drop_rate=0.1):\n",
        "    super(Encoder, self).__init__()\n",
        "\n",
        "    # params\n",
        "    self.dk_model = dk_model\n",
        "    self.max_size = max_size\n",
        "    self.use_pos_emb = use_pos_emb\n",
        "    self.enc_hidden_size = enc_hidden_size\n",
        "    self.num_encoders = num_encoders\n",
        "    \n",
        "    # layers\n",
        "    #self.embedding = keras.layers.Embedding(features_size, dk_model)\n",
        "    self.positional_encoding = positional_encoding(self.max_size, self.dk_model)\n",
        "    self.embedding = keras.layers.Dense(dk_model)\n",
        "    self.encoders_stack = [EncoderLayer(dk_model, num_heads, enc_hidden_size, drop_rate) for _ in range(num_encoders)]\n",
        "    self.dropout = tf.keras.layers.Dropout(drop_rate)\n",
        "  \n",
        "  def call(self, x, padding_mask, training):\n",
        "    x = self.embedding(x)\n",
        "    x *= tf.math.sqrt(tf.cast(self.dk_model, tf.float32))\n",
        "\n",
        "    if self.use_pos_emb:\n",
        "      x += self.positional_encoding\n",
        "    \n",
        "    x = self.dropout(x, training=training)\n",
        "    \n",
        "    for encoder_layer in self.encoders_stack:\n",
        "      x = encoder_layer(x, training, padding_mask)\n",
        "    \n",
        "    return x"
      ],
      "execution_count": null,
      "outputs": []
    },
    {
      "cell_type": "code",
      "metadata": {
        "colab": {
          "base_uri": "https://localhost:8080/"
        },
        "id": "0mPf0yfTBQmf",
        "outputId": "2b03d983-b381-47f3-fa44-6bec338c9dbc"
      },
      "source": [
        "samp_inp = tf.random.uniform((3, 6, 20, 256))\n",
        "encoder = Encoder(256, 20, 256)\n",
        "out = encoder(samp_inp, None, True)\n",
        "out.shape"
      ],
      "execution_count": null,
      "outputs": [
        {
          "output_type": "stream",
          "name": "stdout",
          "text": [
            "HI\n"
          ]
        },
        {
          "output_type": "execute_result",
          "data": {
            "text/plain": [
              "TensorShape([3, 6, 20, 256])"
            ]
          },
          "metadata": {},
          "execution_count": 172
        }
      ]
    },
    {
      "cell_type": "code",
      "metadata": {
        "id": "sxqvjK00I7q_"
      },
      "source": [
        "class Decoder(keras.layers.Layer):\n",
        "  def __init__(self, features_size, max_size, dk_model=256, num_heads=8, num_decoders=6, \n",
        "               dec_hidden_size=256, use_pos_emb=True, drop_rate=0.1):\n",
        "    \n",
        "    super(Decoder, self).__init__()\n",
        "\n",
        "    # params\n",
        "    self.dk_model = dk_model\n",
        "    self.max_size = max_size\n",
        "    self.use_pos_emb = use_pos_emb\n",
        "    self.dec_hidden_size = dec_hidden_size\n",
        "    self.num_decoders = num_decoders\n",
        "    self.positional_encoding = positional_encoding(self.max_size, self.dk_model)\n",
        "\n",
        "    # layers\n",
        "    self.embedding = keras.layers.Dense(dk_model)\n",
        "    self.decoders_stack = [DecoderLayer(dk_model, num_heads, dec_hidden_size, drop_rate) for _ in range(num_decoders)]\n",
        "    self.dropout = tf.keras.layers.Dropout(drop_rate)\n",
        "\n",
        "  def call(self, x, enc_output, look_ahead_mask, padding_mask, training):\n",
        "    x = self.embedding(x)\n",
        "    x *= tf.math.sqrt(tf.cast(self.dk_model, tf.float32))\n",
        "    if self.use_pos_emb:\n",
        "      x += self.positional_encoding\n",
        "    \n",
        "    x = self.dropout(x, training=training)\n",
        "    \n",
        "    for decoder_layer in self.decoders_stack:\n",
        "      x, attn1, attn2, = decoder_layer(x, enc_output, training, look_ahead_mask, padding_mask)\n",
        "    \n",
        "    return x"
      ],
      "execution_count": null,
      "outputs": []
    },
    {
      "cell_type": "code",
      "metadata": {
        "colab": {
          "base_uri": "https://localhost:8080/"
        },
        "id": "8TJsP0rtQf83",
        "outputId": "5eabc61f-5230-4180-cfb5-5fe5c004c98b"
      },
      "source": [
        "samp_inp = tf.random.uniform((3, 6, 20, 256))\n",
        "decoder = Decoder(256, 20, 256)\n",
        "out2 = decoder(samp_inp, out, None, None, True)\n",
        "out2.shape"
      ],
      "execution_count": null,
      "outputs": [
        {
          "output_type": "stream",
          "name": "stdout",
          "text": [
            "HI\n",
            "xs:  (3, 6, 20, 256)\n",
            "pe:  (1, 20, 256)\n",
            "xs:  (3, 6, 20, 256)\n"
          ]
        },
        {
          "output_type": "execute_result",
          "data": {
            "text/plain": [
              "TensorShape([3, 6, 20, 256])"
            ]
          },
          "metadata": {},
          "execution_count": 192
        }
      ]
    },
    {
      "cell_type": "code",
      "metadata": {
        "id": "p9gQwvAEa6JJ"
      },
      "source": [
        "class STTransformer(keras.Model):\n",
        "  def __init__(self, features_size, max_seq_size, max_neighbors_size, \n",
        "               sp_dk=256, sp_enc_heads=8, sp_dec_heads=8, sp_num_encoders=6, sp_num_decoders=6, \n",
        "               tm_dk=256, tm_enc_heads=8, tm_dec_heads=8, tm_num_encoders=6, tm_num_decoders=6, \n",
        "               dec_hidden_size=256, drop_rate=0.1):\n",
        "    \n",
        "    super(STTransformer, self).__init__()\n",
        "\n",
        "    # layers\n",
        "    self.sp_encoder = Encoder(features_size, max_neighbors_size, sp_dk, num_heads=sp_enc_heads,  num_encoders=sp_num_encoders, use_pos_emb=False)\n",
        "    self.sp_decoder = Decoder(features_size, max_neighbors_size, sp_dk, num_heads=sp_dec_heads,  num_decoders=sp_num_decoders, use_pos_emb=False)\n",
        "    self.tm_encoder = Encoder(features_size, max_seq_size, tm_dk, num_heads=tm_enc_heads,  num_encoders=tm_num_encoders)\n",
        "    self.tm_decoder = Decoder(features_size, max_seq_size, tm_dk, num_heads=tm_dec_heads,  num_decoders=tm_num_decoders)\n",
        "    self.linear = tf.keras.layers.Dense(2, name='Linear_Trans')\n",
        "\n",
        "    \n",
        "  def call(self, inputs, training):\n",
        "    inp, inp_masks, seq_inp_masks, targets, tar_masks, seq_tar_masks = inputs\n",
        "    \n",
        "    sp_enc_out = self.sp_encoder(inp,  inp_masks, training)                               #(batch, seq, neighbors, <spatial attn features>)\n",
        "    out = tf.transpose(sp_enc_out, [0, 2, 1, 3])                                          #(batch, neighbors, seq, <spatial attn features>)\n",
        "    tm_enc_out = self.tm_encoder(out, seq_inp_masks, training)                            #(batch, neighbots, seq, <time attn features>)\n",
        "    \n",
        "    # decode time\n",
        "    targets = tf.transpose(targets, [0, 2, 1, 3])                                         #(batch, neighbors, seq, features)\n",
        "    look_mask = get_look_ahead_mask(targets)\n",
        "    tm_dec_out = self.tm_decoder(targets, tm_enc_out, look_mask, seq_tar_masks, training) \n",
        "    out2 = tf.transpose(tm_dec_out, [0, 2, 1, 3])                                         #(batch, seq, neighbors, features)\n",
        "    sp_dec_out = self.sp_decoder(out2, sp_enc_out, None, tar_masks, training)\n",
        "    \n",
        "    # linear projection\n",
        "    output = self.linear(sp_dec_out)\n",
        "    return output"
      ],
      "execution_count": null,
      "outputs": []
    },
    {
      "cell_type": "code",
      "source": [
        "# class STTransformer(keras.Model):\n",
        "#   def __init__(self, features_size, max_seq_size, max_neighbors_size, \n",
        "#                sp_dk=256, sp_enc_heads=8, sp_dec_heads=8, sp_num_encoders=6, sp_num_decoders=6, \n",
        "#                tm_dk=256, tm_enc_heads=8, tm_dec_heads=8, tm_num_encoders=6, tm_num_decoders=6, \n",
        "#                dec_hidden_size=256, drop_rate=0.1):\n",
        "    \n",
        "#     super(STTransformer, self).__init__()\n",
        "\n",
        "#     # layers\n",
        "#     self.sp_encoder = Encoder(features_size, max_neighbors_size, sp_dk, num_heads=sp_enc_heads,  num_encoders=sp_num_encoders, use_pos_emb=False)\n",
        "#     self.sp_decoder = Decoder(features_size, max_neighbors_size, sp_dk, num_heads=sp_dec_heads,  num_encoders=sp_num_decoders, use_pos_emb=False)\n",
        "#     self.tm_encoder = Encoder(features_size, max_seq_size, tm_dk, num_heads=tm_enc_heads,  num_encoders=tm_num_encoders)\n",
        "#     self.tm_decoder = Decoder(features_size, max_seq_size, tm_dk, num_heads=tm_dec_heads,  num_encoders=tm_num_decoders)\n",
        "#     self.linear = tf.keras.layers.Dense(2, name='Linear_Trans')\n",
        "\n",
        "    \n",
        "#   def call(self, inputs, training):\n",
        "#     inp, inp_masks, seq_inp_masks, targets, tar_masks, seq_tar_masks = inputs\n",
        "    \n",
        "#     sp_enc_out = self.sp_encoder(inp,  inp_masks, training)                               #(batch, seq, neighbors, <spatial attn features>)\n",
        "#     out = tf.transpose(sp_enc_out, [0, 2, 1, 3])                                          #(batch, neighbors, seq, <spatial attn features>)\n",
        "#     tm_enc_out = self.tm_encoder(out, seq_inp_masks, training)                            #(batch, neighbots, seq, <time attn features>)\n",
        "    \n",
        "#     # decode time\n",
        "#     targets = tf.transpose(targets, [0, 2, 1, 3])                                         #(batch, neighbors, seq, features)\n",
        "#     look_mask = get_look_ahead_mask(targets)\n",
        "#     tm_dec_out = self.tm_decoder(targets, tm_enc_out, look_mask, seq_tar_masks, training) \n",
        "#     out2 = tf.transpose(tm_dec_out, [0, 2, 1, 3])                                         #(batch, seq, neighbors, features)\n",
        "#     sp_dec_out = self.sp_decoder(out2, sp_enc_out, None, tar_masks, training)\n",
        "    \n",
        "#     # linear projection\n",
        "#     output = self.linear(sp_dec_out)\n",
        "#     return output"
      ],
      "metadata": {
        "id": "tHkfDVXakwnb"
      },
      "execution_count": null,
      "outputs": []
    },
    {
      "cell_type": "code",
      "source": [
        "\"\"\" \n",
        "    input [0] = past, [1] = neigh_past_mask, [2] = seq_past_mask, [3] = future, [4] = neigh_future_mask, [5] = seq_future_mask, [6] = full targets\n",
        "    input shape = [samples, seq, neighbor, features] \n",
        "\"\"\" \n",
        "def buildDataSet(input, batch_size):\n",
        "  past               = np.array([input[i][0] for i in range(len(input))])[:, :, :, :2]\n",
        "  future             = np.array([input[i][3] for i in range(len(input))])[:, :, :, :2]\n",
        "  past_speed_mask    = np.array([adapt_seq_mask(input[i][2].astype(np.float32))[:,:,:, 0:] for i in range(len(input))])\n",
        "  past_neighbor_mask = np.array([adapt_spatial_mask(input[i][1].astype(np.float32))[:, 0:, :, :] for i in range(len(input))])\n",
        "  full_traj          = np.array([input[i][6] for i in range(len(input))])[:, :, :, :2]\n",
        "\n",
        "  # transform to speeds\n",
        "  past_speed_mask[:, :, :, :, -1] = 1\n",
        "  past_neighbor_mask[:, :, -1, :, :] = 1\n",
        "  past_speed = np.zeros(past.shape)\n",
        "  past_speed[:, :-1, :, :] = past[:,1:, :, 0:2] - past[:, :-1, :, 0:2]\n",
        "  std_x, std_y = np.std(np.reshape(past_speed, (-1, 2)), axis=0)\n",
        "  past_speed = past_speed / np.array([[std_x, std_y]])\n",
        "\n",
        "  # build past datasets (inputs)\n",
        "  full_traj = tf.data.Dataset.from_tensor_slices(full_traj) \n",
        "  input_ds = tf.data.Dataset.from_tensor_slices(past_speed)\n",
        "  inpMask_ds = tf.data.Dataset.from_tensor_slices(past_neighbor_mask)\n",
        "  seq_inpMask_ds = tf.data.Dataset.from_tensor_slices(past_speed_mask)\n",
        "  # build future datasets (targets)\n",
        "  target_ds = tf.data.Dataset.from_tensor_slices(future)\n",
        "  tarMask_ds = tf.data.Dataset.from_tensor_slices([adapt_spatial_mask(x[4].astype(np.float32)) for x in input])\n",
        "  seq_tarMask_ds = tf.data.Dataset.from_tensor_slices([adapt_seq_mask(x[5].astype(np.float32)) for x in input])\n",
        "\n",
        "  dataset = tf.data.Dataset.zip((full_traj, input_ds, inpMask_ds, seq_inpMask_ds, target_ds, tarMask_ds, seq_tarMask_ds))\n",
        "  dataset = dataset.shuffle(4000)\n",
        "  # batch dataset\n",
        "  drop_remainder = len(past)%batch_size == 1\n",
        "  dataset = dataset.batch(batch_size, drop_remainder=drop_remainder)\n",
        "  return dataset, std_x, std_y"
      ],
      "metadata": {
        "id": "N9OyGWldeJ9T"
      },
      "execution_count": null,
      "outputs": []
    },
    {
      "cell_type": "code",
      "source": [
        "BATCH_SIZE = 64"
      ],
      "metadata": {
        "id": "7_3uLD4kxq-H"
      },
      "execution_count": null,
      "outputs": []
    },
    {
      "cell_type": "code",
      "source": [
        "dataset, std_x, std_y = buildDataSet(cubes, BATCH_SIZE)"
      ],
      "metadata": {
        "id": "N0fnkEQk0h3u"
      },
      "execution_count": null,
      "outputs": []
    },
    {
      "cell_type": "code",
      "source": [
        "class CustomSchedule(tf.keras.optimizers.schedules.LearningRateSchedule):\n",
        "  def __init__(self, d_model, warmup_steps=5):\n",
        "    super(CustomSchedule, self).__init__()\n",
        "\n",
        "    self.d_model = d_model\n",
        "    self.d_model = tf.cast(self.d_model, tf.float32)\n",
        "\n",
        "    self.warmup_steps = warmup_steps\n",
        "\n",
        "  def __call__(self, step):\n",
        "    arg1 = tf.math.rsqrt(step)\n",
        "    arg2 = step * (self.warmup_steps ** -1.5)\n",
        "\n",
        "    return tf.math.rsqrt(self.d_model) * tf.math.minimum(arg1, arg2)"
      ],
      "metadata": {
        "id": "YXOX26yP0E2e"
      },
      "execution_count": null,
      "outputs": []
    },
    {
      "cell_type": "code",
      "source": [
        "learning_rate = CustomSchedule(256)\n",
        "optimizer = optimizer = tf.keras.optimizers.Adam(learning_rate, beta_1=0.99, beta_2=0.9,\n",
        "                                     epsilon=1e-9)"
      ],
      "metadata": {
        "id": "h2KxT0Zcy-hq"
      },
      "execution_count": null,
      "outputs": []
    },
    {
      "cell_type": "code",
      "source": [
        "feat_size, dk = 256, 256\n",
        "seq_size = 8\n",
        "neigh_size = 10\n",
        "n_heads = 8\n",
        "model = STTransformer(feat_size, seq_size, neigh_size, \n",
        "                      sp_dk=dk, sp_enc_heads=n_heads, sp_dec_heads=n_heads,\n",
        "                      tm_dk=dk, tm_enc_heads=n_heads, tm_dec_heads=n_heads,\n",
        "                      sp_num_encoders=1, sp_num_decoders=1, tm_num_encoders=1, tm_num_decoders=1)"
      ],
      "metadata": {
        "id": "BwHu9EMU1rDs"
      },
      "execution_count": null,
      "outputs": []
    },
    {
      "cell_type": "code",
      "source": [
        "loss_object = tf.keras.losses.MeanSquaredError()"
      ],
      "metadata": {
        "id": "-KumylNDtudp"
      },
      "execution_count": null,
      "outputs": []
    },
    {
      "cell_type": "code",
      "source": [
        "def loss_function(real, pred, seq_mask_array, neighbors_mask):\n",
        "  real = real - real[:, 0, :, :][:, tf.newaxis, :, :]\n",
        "  seq_mask_array = 1 - seq_mask_array\n",
        "  neighbors_mask = 1 - neighbors_mask\n",
        "\n",
        "  seq_mask_array = seq_mask_array[:, :, np.newaxis, np.newaxis]\n",
        "  neighbors_mask = neighbors_mask[:, :, :, np.newaxis]\n",
        "\n",
        "  pred_masked = pred * seq_mask_array\n",
        "  pred_masked = pred_masked * neighbors_mask\n",
        "  loss_ = loss_object(real, pred_masked)\n",
        "\n",
        "  return loss_"
      ],
      "metadata": {
        "id": "Rk5t6J9xlLeP"
      },
      "execution_count": null,
      "outputs": []
    },
    {
      "cell_type": "code",
      "source": [
        "#@tf.function\n",
        "def train_step(zipped_input, losses):\n",
        "\n",
        "  # all model inputs\n",
        "  inputs = zipped_input[1]\n",
        "  neigh_inp_masks = zipped_input[2]\n",
        "  seq_inp_masks = zipped_input[3]\n",
        "\n",
        "  # targets\n",
        "  tar = zipped_input[4]\n",
        "  neigh_tar_masks = zipped_input[5]\n",
        "  seq_tar_masks = zipped_input[6]\n",
        "\n",
        "  seq_out_masks = tf.squeeze(seq_tar_masks)\n",
        "  neigh_out_masks = tf.squeeze(neigh_tar_masks)\n",
        "  \n",
        "  # get only x, y, and rotation\n",
        "  targets = tar[:, :, :, :2]                                            \n",
        "\n",
        "  with tf.GradientTape() as tape:\n",
        "    predictions = model((inputs, neigh_inp_masks, seq_inp_masks, tar, neigh_tar_masks, seq_tar_masks), training=True)\n",
        "    predictions = predictions * tf.constant([[std_x, std_y]], dtype=tf.float32)\n",
        "    predictions = tf.math.cumsum(predictions, axis=1)\n",
        "\n",
        "    loss = loss_function(targets, predictions, seq_out_masks, neigh_out_masks)\n",
        "\n",
        "  #print(predictions)\n",
        "  print('loss: ', loss)\n",
        "  losses.append(loss)\n",
        "  gradients = tape.gradient(loss, model.trainable_variables)\n",
        "  #gradients = [tf.clip_by_norm(g, 10.0) for g in gradients]\n",
        "  optimizer.apply_gradients(zip(gradients, model.trainable_variables))\n",
        "  return losses, loss"
      ],
      "metadata": {
        "id": "UIDyvCrwiSpt"
      },
      "execution_count": null,
      "outputs": []
    },
    {
      "cell_type": "code",
      "source": [
        "def eval_step(zipped_input):\n",
        "  # all model inputs\n",
        "  inputs = zipped_input[0]\n",
        "  neigh_inp_masks = zipped_input[1]\n",
        "  seq_inp_masks = zipped_input[2]\n",
        "\n",
        "  # targets\n",
        "  tar = zipped_input[3]\n",
        "  neigh_tar_masks = zipped_input[4]\n",
        "  seq_tar_masks = zipped_input[5]\n",
        "\n",
        "  seq_out_masks = tf.squeeze(seq_tar_masks)\n",
        "  neigh_out_masks = tf.squeeze(neigh_tar_masks)\n",
        "\n",
        "  targets = tf.transpose(tar[:, :, :, :2], [0, 2, 1, 3])     \n",
        "  preds = model((inputs, neigh_inp_masks, seq_inp_masks, tar, neigh_tar_masks, seq_tar_masks), training=False)\n",
        "\n",
        "  neigh_out_masks = 1 - neigh_out_masks\n",
        "  seq_out_masks = 1 - seq_out_masks\n",
        "  seq_out_masks = seq_out_masks[:, :, np.newaxis, np.newaxis]\n",
        "\n",
        "  # masking\n",
        "  preds = preds * seq_out_masks\n",
        "  preds = preds * neigh_out_masks[:, :, :, np.newaxis]\n",
        "  preds = preds[:, :, :, :2]\n",
        "\n",
        "  # sequence with feats dimension\n",
        "  preds = tf.transpose(preds, [0, 2, 1, 3])\n",
        "\n",
        "  # reshape to remove batch\n",
        "  targets = tf.reshape(targets, (-1, 8, 2))\n",
        "  preds = tf.reshape(preds, (-1, 8, 2))\n",
        "  \n",
        "  return ADE(targets.numpy(), preds.numpy())"
      ],
      "metadata": {
        "id": "63--K4-q2xFH"
      },
      "execution_count": null,
      "outputs": []
    },
    {
      "cell_type": "code",
      "source": [
        "model.summary()"
      ],
      "metadata": {
        "id": "1OW2kykQ7iMD"
      },
      "execution_count": null,
      "outputs": []
    },
    {
      "cell_type": "code",
      "source": [
        "final_file = '/content/drive/MyDrive/Colab_Notebooks/pesos_transformer'\n",
        "\n",
        "final_checkpoint = tf.train.Checkpoint(model=model)"
      ],
      "metadata": {
        "id": "S9dfpIPWwzBR"
      },
      "execution_count": null,
      "outputs": []
    },
    {
      "cell_type": "markdown",
      "metadata": {
        "id": "5vkOw8TsLDJo"
      },
      "source": [
        "# Load Model If necessary"
      ]
    },
    {
      "cell_type": "code",
      "metadata": {
        "colab": {
          "base_uri": "https://localhost:8080/"
        },
        "id": "kGX2KcdWLF6u",
        "outputId": "12893be6-a6f5-490d-e18a-f2c0e8a0e1a1"
      },
      "source": [
        "final_checkpoint.read(final_file).assert_consumed()"
      ],
      "execution_count": null,
      "outputs": [
        {
          "output_type": "execute_result",
          "data": {
            "text/plain": [
              "<tensorflow.python.training.tracking.util.CheckpointLoadStatus at 0x7ff136403c50>"
            ]
          },
          "metadata": {},
          "execution_count": 120
        }
      ]
    },
    {
      "cell_type": "code",
      "source": [
        "def ADE(real, pred):\n",
        "    diff_sq = (real - pred)**2\n",
        "    diff_sq = np.sum(diff_sq, axis=2)\n",
        "    diff_sq = np.sqrt(diff_sq)\n",
        "    mean_diff = np.mean(diff_sq)\n",
        "    return mean_diff"
      ],
      "metadata": {
        "id": "DdAzAs9WsKyO"
      },
      "execution_count": null,
      "outputs": []
    },
    {
      "cell_type": "code",
      "source": [
        "for epoch in range(10):\n",
        "  print('epoch: ', epoch)\n",
        "  losses = []\n",
        "  for batch in dataset:\n",
        "    losses, loss = train_step(batch, losses)\n",
        "    if np.isnan(loss.numpy()):\n",
        "      break;\n",
        "  \n",
        "  #l_ade = []\n",
        "  #for batch in dataset:\n",
        "  #  ade = eval_step(batch)\n",
        "  #  l_ade.append(ade)\n",
        "\n",
        "  #print('ade: ', np.mean(np.array(l_ade)))  \n",
        "\n",
        "  print(\"avg loss\", tf.reduce_mean(losses)) "
      ],
      "metadata": {
        "colab": {
          "base_uri": "https://localhost:8080/"
        },
        "id": "hMQdHyG02AeR",
        "outputId": "3c06aa74-7dc1-4718-f465-904945d55436"
      },
      "execution_count": null,
      "outputs": [
        {
          "output_type": "stream",
          "name": "stdout",
          "text": [
            "epoch:  0\n",
            "loss:  tf.Tensor(186.05928, shape=(), dtype=float32)\n",
            "loss:  tf.Tensor(156.70322, shape=(), dtype=float32)\n",
            "loss:  tf.Tensor(161.62753, shape=(), dtype=float32)\n",
            "loss:  tf.Tensor(105.867294, shape=(), dtype=float32)\n",
            "loss:  tf.Tensor(124.04446, shape=(), dtype=float32)\n",
            "loss:  tf.Tensor(179.32263, shape=(), dtype=float32)\n",
            "loss:  tf.Tensor(175.39253, shape=(), dtype=float32)\n",
            "loss:  tf.Tensor(183.30104, shape=(), dtype=float32)\n",
            "loss:  tf.Tensor(140.06378, shape=(), dtype=float32)\n",
            "loss:  tf.Tensor(114.60692, shape=(), dtype=float32)\n",
            "loss:  tf.Tensor(143.28941, shape=(), dtype=float32)\n",
            "loss:  tf.Tensor(175.79735, shape=(), dtype=float32)\n",
            "loss:  tf.Tensor(135.7276, shape=(), dtype=float32)\n",
            "loss:  tf.Tensor(209.92676, shape=(), dtype=float32)\n",
            "loss:  tf.Tensor(115.38112, shape=(), dtype=float32)\n",
            "loss:  tf.Tensor(168.6463, shape=(), dtype=float32)\n",
            "loss:  tf.Tensor(197.32649, shape=(), dtype=float32)\n",
            "loss:  tf.Tensor(161.79147, shape=(), dtype=float32)\n",
            "loss:  tf.Tensor(189.90788, shape=(), dtype=float32)\n",
            "loss:  tf.Tensor(233.46797, shape=(), dtype=float32)\n",
            "loss:  tf.Tensor(142.30862, shape=(), dtype=float32)\n",
            "loss:  tf.Tensor(146.36115, shape=(), dtype=float32)\n",
            "loss:  tf.Tensor(208.16403, shape=(), dtype=float32)\n",
            "loss:  tf.Tensor(172.05467, shape=(), dtype=float32)\n",
            "loss:  tf.Tensor(161.09804, shape=(), dtype=float32)\n",
            "loss:  tf.Tensor(225.99248, shape=(), dtype=float32)\n",
            "loss:  tf.Tensor(136.71042, shape=(), dtype=float32)\n",
            "loss:  tf.Tensor(147.8477, shape=(), dtype=float32)\n",
            "loss:  tf.Tensor(161.16592, shape=(), dtype=float32)\n",
            "loss:  tf.Tensor(237.47404, shape=(), dtype=float32)\n",
            "loss:  tf.Tensor(129.68332, shape=(), dtype=float32)\n",
            "loss:  tf.Tensor(110.52053, shape=(), dtype=float32)\n",
            "loss:  tf.Tensor(169.34998, shape=(), dtype=float32)\n",
            "loss:  tf.Tensor(195.47388, shape=(), dtype=float32)\n",
            "loss:  tf.Tensor(73.64992, shape=(), dtype=float32)\n",
            "loss:  tf.Tensor(231.63974, shape=(), dtype=float32)\n",
            "loss:  tf.Tensor(139.55786, shape=(), dtype=float32)\n",
            "loss:  tf.Tensor(226.1835, shape=(), dtype=float32)\n",
            "loss:  tf.Tensor(138.13942, shape=(), dtype=float32)\n",
            "loss:  tf.Tensor(194.65623, shape=(), dtype=float32)\n",
            "loss:  tf.Tensor(182.84467, shape=(), dtype=float32)\n",
            "loss:  tf.Tensor(154.60916, shape=(), dtype=float32)\n",
            "loss:  tf.Tensor(228.4979, shape=(), dtype=float32)\n",
            "loss:  tf.Tensor(138.39471, shape=(), dtype=float32)\n",
            "loss:  tf.Tensor(165.34773, shape=(), dtype=float32)\n",
            "loss:  tf.Tensor(214.00107, shape=(), dtype=float32)\n",
            "loss:  tf.Tensor(115.62164, shape=(), dtype=float32)\n",
            "loss:  tf.Tensor(188.54842, shape=(), dtype=float32)\n",
            "loss:  tf.Tensor(152.1572, shape=(), dtype=float32)\n",
            "loss:  tf.Tensor(175.45285, shape=(), dtype=float32)\n",
            "loss:  tf.Tensor(227.00496, shape=(), dtype=float32)\n",
            "loss:  tf.Tensor(130.58034, shape=(), dtype=float32)\n",
            "loss:  tf.Tensor(234.64958, shape=(), dtype=float32)\n",
            "loss:  tf.Tensor(115.55687, shape=(), dtype=float32)\n",
            "loss:  tf.Tensor(153.40535, shape=(), dtype=float32)\n",
            "loss:  tf.Tensor(170.62917, shape=(), dtype=float32)\n",
            "loss:  tf.Tensor(166.44016, shape=(), dtype=float32)\n",
            "loss:  tf.Tensor(127.49133, shape=(), dtype=float32)\n",
            "loss:  tf.Tensor(186.5718, shape=(), dtype=float32)\n",
            "loss:  tf.Tensor(256.00156, shape=(), dtype=float32)\n",
            "loss:  tf.Tensor(191.36151, shape=(), dtype=float32)\n",
            "loss:  tf.Tensor(128.7362, shape=(), dtype=float32)\n",
            "loss:  tf.Tensor(184.65707, shape=(), dtype=float32)\n",
            "loss:  tf.Tensor(136.7211, shape=(), dtype=float32)\n",
            "loss:  tf.Tensor(137.31096, shape=(), dtype=float32)\n",
            "loss:  tf.Tensor(157.49174, shape=(), dtype=float32)\n",
            "loss:  tf.Tensor(157.08284, shape=(), dtype=float32)\n",
            "loss:  tf.Tensor(142.81824, shape=(), dtype=float32)\n",
            "loss:  tf.Tensor(166.81863, shape=(), dtype=float32)\n",
            "loss:  tf.Tensor(126.04196, shape=(), dtype=float32)\n",
            "avg loss tf.Tensor(165.98755, shape=(), dtype=float32)\n",
            "epoch:  1\n",
            "loss:  tf.Tensor(196.75008, shape=(), dtype=float32)\n",
            "loss:  tf.Tensor(200.28513, shape=(), dtype=float32)\n",
            "loss:  tf.Tensor(143.51291, shape=(), dtype=float32)\n",
            "loss:  tf.Tensor(145.36836, shape=(), dtype=float32)\n",
            "loss:  tf.Tensor(171.94788, shape=(), dtype=float32)\n",
            "loss:  tf.Tensor(131.66238, shape=(), dtype=float32)\n",
            "loss:  tf.Tensor(198.2629, shape=(), dtype=float32)\n",
            "loss:  tf.Tensor(138.5983, shape=(), dtype=float32)\n",
            "loss:  tf.Tensor(146.18588, shape=(), dtype=float32)\n",
            "loss:  tf.Tensor(137.01816, shape=(), dtype=float32)\n",
            "loss:  tf.Tensor(149.11111, shape=(), dtype=float32)\n",
            "loss:  tf.Tensor(117.23818, shape=(), dtype=float32)\n",
            "loss:  tf.Tensor(142.6934, shape=(), dtype=float32)\n",
            "loss:  tf.Tensor(164.87648, shape=(), dtype=float32)\n",
            "loss:  tf.Tensor(137.42715, shape=(), dtype=float32)\n",
            "loss:  tf.Tensor(159.14017, shape=(), dtype=float32)\n",
            "loss:  tf.Tensor(179.05457, shape=(), dtype=float32)\n",
            "loss:  tf.Tensor(161.38474, shape=(), dtype=float32)\n",
            "loss:  tf.Tensor(232.61787, shape=(), dtype=float32)\n",
            "loss:  tf.Tensor(120.24978, shape=(), dtype=float32)\n",
            "loss:  tf.Tensor(146.68118, shape=(), dtype=float32)\n",
            "loss:  tf.Tensor(139.77676, shape=(), dtype=float32)\n",
            "loss:  tf.Tensor(186.9737, shape=(), dtype=float32)\n",
            "loss:  tf.Tensor(196.64754, shape=(), dtype=float32)\n",
            "loss:  tf.Tensor(129.96152, shape=(), dtype=float32)\n",
            "loss:  tf.Tensor(219.06772, shape=(), dtype=float32)\n",
            "loss:  tf.Tensor(167.70683, shape=(), dtype=float32)\n",
            "loss:  tf.Tensor(134.11295, shape=(), dtype=float32)\n",
            "loss:  tf.Tensor(187.27438, shape=(), dtype=float32)\n",
            "loss:  tf.Tensor(165.91997, shape=(), dtype=float32)\n",
            "loss:  tf.Tensor(177.35165, shape=(), dtype=float32)\n",
            "loss:  tf.Tensor(159.33557, shape=(), dtype=float32)\n",
            "loss:  tf.Tensor(164.48584, shape=(), dtype=float32)\n",
            "loss:  tf.Tensor(214.75986, shape=(), dtype=float32)\n",
            "loss:  tf.Tensor(218.1272, shape=(), dtype=float32)\n",
            "loss:  tf.Tensor(213.48137, shape=(), dtype=float32)\n",
            "loss:  tf.Tensor(148.64166, shape=(), dtype=float32)\n",
            "loss:  tf.Tensor(205.08316, shape=(), dtype=float32)\n",
            "loss:  tf.Tensor(159.99399, shape=(), dtype=float32)\n",
            "loss:  tf.Tensor(130.16406, shape=(), dtype=float32)\n",
            "loss:  tf.Tensor(154.78836, shape=(), dtype=float32)\n",
            "loss:  tf.Tensor(229.91763, shape=(), dtype=float32)\n",
            "loss:  tf.Tensor(166.96124, shape=(), dtype=float32)\n",
            "loss:  tf.Tensor(204.4125, shape=(), dtype=float32)\n",
            "loss:  tf.Tensor(147.29765, shape=(), dtype=float32)\n",
            "loss:  tf.Tensor(152.3815, shape=(), dtype=float32)\n",
            "loss:  tf.Tensor(141.14758, shape=(), dtype=float32)\n",
            "loss:  tf.Tensor(125.06724, shape=(), dtype=float32)\n",
            "loss:  tf.Tensor(218.83023, shape=(), dtype=float32)\n",
            "loss:  tf.Tensor(177.0099, shape=(), dtype=float32)\n",
            "loss:  tf.Tensor(189.79283, shape=(), dtype=float32)\n",
            "loss:  tf.Tensor(180.04074, shape=(), dtype=float32)\n",
            "loss:  tf.Tensor(166.35948, shape=(), dtype=float32)\n",
            "loss:  tf.Tensor(165.95059, shape=(), dtype=float32)\n",
            "loss:  tf.Tensor(154.48291, shape=(), dtype=float32)\n",
            "loss:  tf.Tensor(188.2156, shape=(), dtype=float32)\n",
            "loss:  tf.Tensor(157.3723, shape=(), dtype=float32)\n",
            "loss:  tf.Tensor(196.32211, shape=(), dtype=float32)\n",
            "loss:  tf.Tensor(198.8917, shape=(), dtype=float32)\n",
            "loss:  tf.Tensor(157.09508, shape=(), dtype=float32)\n",
            "loss:  tf.Tensor(149.5211, shape=(), dtype=float32)\n",
            "loss:  tf.Tensor(175.21895, shape=(), dtype=float32)\n",
            "loss:  tf.Tensor(140.43228, shape=(), dtype=float32)\n",
            "loss:  tf.Tensor(144.7436, shape=(), dtype=float32)\n",
            "loss:  tf.Tensor(136.66733, shape=(), dtype=float32)\n",
            "loss:  tf.Tensor(180.15039, shape=(), dtype=float32)\n",
            "loss:  tf.Tensor(170.67868, shape=(), dtype=float32)\n",
            "loss:  tf.Tensor(192.8366, shape=(), dtype=float32)\n",
            "loss:  tf.Tensor(200.91293, shape=(), dtype=float32)\n",
            "loss:  tf.Tensor(156.09024, shape=(), dtype=float32)\n",
            "avg loss tf.Tensor(167.97888, shape=(), dtype=float32)\n",
            "epoch:  2\n",
            "loss:  tf.Tensor(143.25911, shape=(), dtype=float32)\n",
            "loss:  tf.Tensor(192.58444, shape=(), dtype=float32)\n",
            "loss:  tf.Tensor(177.39247, shape=(), dtype=float32)\n",
            "loss:  tf.Tensor(193.65898, shape=(), dtype=float32)\n",
            "loss:  tf.Tensor(237.29854, shape=(), dtype=float32)\n",
            "loss:  tf.Tensor(122.47351, shape=(), dtype=float32)\n",
            "loss:  tf.Tensor(159.04875, shape=(), dtype=float32)\n",
            "loss:  tf.Tensor(169.39215, shape=(), dtype=float32)\n",
            "loss:  tf.Tensor(230.66495, shape=(), dtype=float32)\n",
            "loss:  tf.Tensor(182.23726, shape=(), dtype=float32)\n",
            "loss:  tf.Tensor(148.98276, shape=(), dtype=float32)\n",
            "loss:  tf.Tensor(209.4884, shape=(), dtype=float32)\n",
            "loss:  tf.Tensor(150.23407, shape=(), dtype=float32)\n",
            "loss:  tf.Tensor(126.52063, shape=(), dtype=float32)\n",
            "loss:  tf.Tensor(166.69305, shape=(), dtype=float32)\n",
            "loss:  tf.Tensor(148.82573, shape=(), dtype=float32)\n",
            "loss:  tf.Tensor(254.63342, shape=(), dtype=float32)\n",
            "loss:  tf.Tensor(151.5256, shape=(), dtype=float32)\n",
            "loss:  tf.Tensor(208.2924, shape=(), dtype=float32)\n",
            "loss:  tf.Tensor(232.46558, shape=(), dtype=float32)\n",
            "loss:  tf.Tensor(190.62929, shape=(), dtype=float32)\n",
            "loss:  tf.Tensor(158.77023, shape=(), dtype=float32)\n",
            "loss:  tf.Tensor(96.70857, shape=(), dtype=float32)\n",
            "loss:  tf.Tensor(240.58517, shape=(), dtype=float32)\n",
            "loss:  tf.Tensor(206.34964, shape=(), dtype=float32)\n",
            "loss:  tf.Tensor(196.34737, shape=(), dtype=float32)\n",
            "loss:  tf.Tensor(193.31332, shape=(), dtype=float32)\n",
            "loss:  tf.Tensor(199.97537, shape=(), dtype=float32)\n",
            "loss:  tf.Tensor(229.3604, shape=(), dtype=float32)\n",
            "loss:  tf.Tensor(234.04062, shape=(), dtype=float32)\n",
            "loss:  tf.Tensor(206.45212, shape=(), dtype=float32)\n",
            "loss:  tf.Tensor(190.75572, shape=(), dtype=float32)\n",
            "loss:  tf.Tensor(171.64076, shape=(), dtype=float32)\n",
            "loss:  tf.Tensor(211.5844, shape=(), dtype=float32)\n",
            "loss:  tf.Tensor(148.73892, shape=(), dtype=float32)\n",
            "loss:  tf.Tensor(215.5756, shape=(), dtype=float32)\n",
            "loss:  tf.Tensor(163.16719, shape=(), dtype=float32)\n",
            "loss:  tf.Tensor(286.33237, shape=(), dtype=float32)\n",
            "loss:  tf.Tensor(139.96379, shape=(), dtype=float32)\n",
            "loss:  tf.Tensor(182.01054, shape=(), dtype=float32)\n",
            "loss:  tf.Tensor(136.53679, shape=(), dtype=float32)\n",
            "loss:  tf.Tensor(241.14458, shape=(), dtype=float32)\n",
            "loss:  tf.Tensor(159.02615, shape=(), dtype=float32)\n",
            "loss:  tf.Tensor(212.88919, shape=(), dtype=float32)\n",
            "loss:  tf.Tensor(197.79102, shape=(), dtype=float32)\n",
            "loss:  tf.Tensor(167.8943, shape=(), dtype=float32)\n",
            "loss:  tf.Tensor(246.56343, shape=(), dtype=float32)\n",
            "loss:  tf.Tensor(166.2824, shape=(), dtype=float32)\n",
            "loss:  tf.Tensor(210.36816, shape=(), dtype=float32)\n",
            "loss:  tf.Tensor(235.32803, shape=(), dtype=float32)\n",
            "loss:  tf.Tensor(291.454, shape=(), dtype=float32)\n",
            "loss:  tf.Tensor(241.22258, shape=(), dtype=float32)\n",
            "loss:  tf.Tensor(270.71515, shape=(), dtype=float32)\n",
            "loss:  tf.Tensor(214.50471, shape=(), dtype=float32)\n",
            "loss:  tf.Tensor(209.6215, shape=(), dtype=float32)\n",
            "loss:  tf.Tensor(244.0018, shape=(), dtype=float32)\n",
            "loss:  tf.Tensor(278.56876, shape=(), dtype=float32)\n",
            "loss:  tf.Tensor(240.40804, shape=(), dtype=float32)\n",
            "loss:  tf.Tensor(248.32962, shape=(), dtype=float32)\n",
            "loss:  tf.Tensor(336.26196, shape=(), dtype=float32)\n",
            "loss:  tf.Tensor(223.92647, shape=(), dtype=float32)\n",
            "loss:  tf.Tensor(204.6582, shape=(), dtype=float32)\n",
            "loss:  tf.Tensor(254.29092, shape=(), dtype=float32)\n",
            "loss:  tf.Tensor(164.76996, shape=(), dtype=float32)\n",
            "loss:  tf.Tensor(235.64786, shape=(), dtype=float32)\n",
            "loss:  tf.Tensor(237.64436, shape=(), dtype=float32)\n",
            "loss:  tf.Tensor(240.08452, shape=(), dtype=float32)\n",
            "loss:  tf.Tensor(273.98853, shape=(), dtype=float32)\n",
            "loss:  tf.Tensor(217.14944, shape=(), dtype=float32)\n",
            "loss:  tf.Tensor(224.16895, shape=(), dtype=float32)\n",
            "avg loss tf.Tensor(204.18878, shape=(), dtype=float32)\n",
            "epoch:  3\n",
            "loss:  tf.Tensor(385.33765, shape=(), dtype=float32)\n",
            "loss:  tf.Tensor(228.12723, shape=(), dtype=float32)\n",
            "loss:  tf.Tensor(231.33066, shape=(), dtype=float32)\n",
            "loss:  tf.Tensor(161.38892, shape=(), dtype=float32)\n",
            "loss:  tf.Tensor(219.2196, shape=(), dtype=float32)\n",
            "loss:  tf.Tensor(155.94023, shape=(), dtype=float32)\n",
            "loss:  tf.Tensor(147.13559, shape=(), dtype=float32)\n",
            "loss:  tf.Tensor(192.06499, shape=(), dtype=float32)\n",
            "loss:  tf.Tensor(200.1423, shape=(), dtype=float32)\n",
            "loss:  tf.Tensor(225.62422, shape=(), dtype=float32)\n",
            "loss:  tf.Tensor(213.45004, shape=(), dtype=float32)\n",
            "loss:  tf.Tensor(226.20515, shape=(), dtype=float32)\n",
            "loss:  tf.Tensor(312.37524, shape=(), dtype=float32)\n",
            "loss:  tf.Tensor(224.37308, shape=(), dtype=float32)\n",
            "loss:  tf.Tensor(257.78506, shape=(), dtype=float32)\n",
            "loss:  tf.Tensor(208.9711, shape=(), dtype=float32)\n",
            "loss:  tf.Tensor(323.90997, shape=(), dtype=float32)\n",
            "loss:  tf.Tensor(284.53067, shape=(), dtype=float32)\n",
            "loss:  tf.Tensor(301.16205, shape=(), dtype=float32)\n",
            "loss:  tf.Tensor(330.75934, shape=(), dtype=float32)\n",
            "loss:  tf.Tensor(290.9895, shape=(), dtype=float32)\n",
            "loss:  tf.Tensor(354.01886, shape=(), dtype=float32)\n",
            "loss:  tf.Tensor(259.40677, shape=(), dtype=float32)\n",
            "loss:  tf.Tensor(300.97006, shape=(), dtype=float32)\n",
            "loss:  tf.Tensor(331.8156, shape=(), dtype=float32)\n",
            "loss:  tf.Tensor(371.07935, shape=(), dtype=float32)\n",
            "loss:  tf.Tensor(287.7308, shape=(), dtype=float32)\n",
            "loss:  tf.Tensor(226.4665, shape=(), dtype=float32)\n",
            "loss:  tf.Tensor(306.72186, shape=(), dtype=float32)\n",
            "loss:  tf.Tensor(350.7282, shape=(), dtype=float32)\n",
            "loss:  tf.Tensor(355.50327, shape=(), dtype=float32)\n",
            "loss:  tf.Tensor(293.60822, shape=(), dtype=float32)\n",
            "loss:  tf.Tensor(240.16748, shape=(), dtype=float32)\n",
            "loss:  tf.Tensor(313.16342, shape=(), dtype=float32)\n",
            "loss:  tf.Tensor(297.60577, shape=(), dtype=float32)\n",
            "loss:  tf.Tensor(214.96887, shape=(), dtype=float32)\n",
            "loss:  tf.Tensor(212.13284, shape=(), dtype=float32)\n",
            "loss:  tf.Tensor(246.95845, shape=(), dtype=float32)\n",
            "loss:  tf.Tensor(183.57358, shape=(), dtype=float32)\n",
            "loss:  tf.Tensor(280.1747, shape=(), dtype=float32)\n",
            "loss:  tf.Tensor(191.8193, shape=(), dtype=float32)\n",
            "loss:  tf.Tensor(211.80783, shape=(), dtype=float32)\n",
            "loss:  tf.Tensor(192.15016, shape=(), dtype=float32)\n",
            "loss:  tf.Tensor(159.55449, shape=(), dtype=float32)\n",
            "loss:  tf.Tensor(201.09726, shape=(), dtype=float32)\n",
            "loss:  tf.Tensor(172.18216, shape=(), dtype=float32)\n",
            "loss:  tf.Tensor(163.78969, shape=(), dtype=float32)\n",
            "loss:  tf.Tensor(226.20906, shape=(), dtype=float32)\n",
            "loss:  tf.Tensor(225.97273, shape=(), dtype=float32)\n",
            "loss:  tf.Tensor(262.47083, shape=(), dtype=float32)\n",
            "loss:  tf.Tensor(200.9451, shape=(), dtype=float32)\n",
            "loss:  tf.Tensor(394.54337, shape=(), dtype=float32)\n",
            "loss:  tf.Tensor(222.58195, shape=(), dtype=float32)\n",
            "loss:  tf.Tensor(245.85136, shape=(), dtype=float32)\n",
            "loss:  tf.Tensor(240.79129, shape=(), dtype=float32)\n",
            "loss:  tf.Tensor(285.39755, shape=(), dtype=float32)\n",
            "loss:  tf.Tensor(269.00537, shape=(), dtype=float32)\n",
            "loss:  tf.Tensor(314.28482, shape=(), dtype=float32)\n",
            "loss:  tf.Tensor(231.8511, shape=(), dtype=float32)\n",
            "loss:  tf.Tensor(290.57785, shape=(), dtype=float32)\n",
            "loss:  tf.Tensor(303.12378, shape=(), dtype=float32)\n",
            "loss:  tf.Tensor(282.34702, shape=(), dtype=float32)\n",
            "loss:  tf.Tensor(353.4864, shape=(), dtype=float32)\n",
            "loss:  tf.Tensor(271.14612, shape=(), dtype=float32)\n",
            "loss:  tf.Tensor(306.33527, shape=(), dtype=float32)\n",
            "loss:  tf.Tensor(247.38103, shape=(), dtype=float32)\n",
            "loss:  tf.Tensor(296.10605, shape=(), dtype=float32)\n",
            "loss:  tf.Tensor(249.63603, shape=(), dtype=float32)\n",
            "loss:  tf.Tensor(261.1034, shape=(), dtype=float32)\n",
            "loss:  tf.Tensor(277.2256, shape=(), dtype=float32)\n",
            "avg loss tf.Tensor(258.54846, shape=(), dtype=float32)\n",
            "epoch:  4\n",
            "loss:  tf.Tensor(229.17033, shape=(), dtype=float32)\n",
            "loss:  tf.Tensor(296.56693, shape=(), dtype=float32)\n",
            "loss:  tf.Tensor(245.56697, shape=(), dtype=float32)\n",
            "loss:  tf.Tensor(251.95564, shape=(), dtype=float32)\n",
            "loss:  tf.Tensor(271.5623, shape=(), dtype=float32)\n",
            "loss:  tf.Tensor(271.71494, shape=(), dtype=float32)\n",
            "loss:  tf.Tensor(287.82965, shape=(), dtype=float32)\n",
            "loss:  tf.Tensor(219.25278, shape=(), dtype=float32)\n",
            "loss:  tf.Tensor(275.1808, shape=(), dtype=float32)\n",
            "loss:  tf.Tensor(238.45464, shape=(), dtype=float32)\n",
            "loss:  tf.Tensor(287.5302, shape=(), dtype=float32)\n",
            "loss:  tf.Tensor(237.1387, shape=(), dtype=float32)\n",
            "loss:  tf.Tensor(265.35757, shape=(), dtype=float32)\n",
            "loss:  tf.Tensor(230.40703, shape=(), dtype=float32)\n",
            "loss:  tf.Tensor(230.06949, shape=(), dtype=float32)\n",
            "loss:  tf.Tensor(241.52637, shape=(), dtype=float32)\n",
            "loss:  tf.Tensor(299.14697, shape=(), dtype=float32)\n",
            "loss:  tf.Tensor(223.30856, shape=(), dtype=float32)\n",
            "loss:  tf.Tensor(255.29158, shape=(), dtype=float32)\n",
            "loss:  tf.Tensor(319.88144, shape=(), dtype=float32)\n",
            "loss:  tf.Tensor(191.96262, shape=(), dtype=float32)\n",
            "loss:  tf.Tensor(230.05913, shape=(), dtype=float32)\n",
            "loss:  tf.Tensor(312.0373, shape=(), dtype=float32)\n",
            "loss:  tf.Tensor(273.10413, shape=(), dtype=float32)\n",
            "loss:  tf.Tensor(240.24646, shape=(), dtype=float32)\n",
            "loss:  tf.Tensor(250.0104, shape=(), dtype=float32)\n",
            "loss:  tf.Tensor(257.68262, shape=(), dtype=float32)\n",
            "loss:  tf.Tensor(286.09796, shape=(), dtype=float32)\n",
            "loss:  tf.Tensor(293.437, shape=(), dtype=float32)\n",
            "loss:  tf.Tensor(264.0918, shape=(), dtype=float32)\n",
            "loss:  tf.Tensor(199.49666, shape=(), dtype=float32)\n",
            "loss:  tf.Tensor(188.04233, shape=(), dtype=float32)\n",
            "loss:  tf.Tensor(299.3709, shape=(), dtype=float32)\n",
            "loss:  tf.Tensor(268.24875, shape=(), dtype=float32)\n",
            "loss:  tf.Tensor(165.44315, shape=(), dtype=float32)\n",
            "loss:  tf.Tensor(205.40132, shape=(), dtype=float32)\n",
            "loss:  tf.Tensor(149.90483, shape=(), dtype=float32)\n",
            "loss:  tf.Tensor(138.10823, shape=(), dtype=float32)\n",
            "loss:  tf.Tensor(161.82832, shape=(), dtype=float32)\n",
            "loss:  tf.Tensor(180.91916, shape=(), dtype=float32)\n",
            "loss:  tf.Tensor(159.51288, shape=(), dtype=float32)\n",
            "loss:  tf.Tensor(169.19055, shape=(), dtype=float32)\n",
            "loss:  tf.Tensor(189.43999, shape=(), dtype=float32)\n",
            "loss:  tf.Tensor(188.85434, shape=(), dtype=float32)\n",
            "loss:  tf.Tensor(262.3996, shape=(), dtype=float32)\n",
            "loss:  tf.Tensor(208.17607, shape=(), dtype=float32)\n",
            "loss:  tf.Tensor(292.2935, shape=(), dtype=float32)\n",
            "loss:  tf.Tensor(272.40863, shape=(), dtype=float32)\n",
            "loss:  tf.Tensor(310.18, shape=(), dtype=float32)\n",
            "loss:  tf.Tensor(257.9083, shape=(), dtype=float32)\n",
            "loss:  tf.Tensor(217.3372, shape=(), dtype=float32)\n",
            "loss:  tf.Tensor(237.22285, shape=(), dtype=float32)\n",
            "loss:  tf.Tensor(291.94003, shape=(), dtype=float32)\n",
            "loss:  tf.Tensor(216.7604, shape=(), dtype=float32)\n",
            "loss:  tf.Tensor(340.54068, shape=(), dtype=float32)\n",
            "loss:  tf.Tensor(243.66907, shape=(), dtype=float32)\n",
            "loss:  tf.Tensor(302.98578, shape=(), dtype=float32)\n",
            "loss:  tf.Tensor(260.4648, shape=(), dtype=float32)\n",
            "loss:  tf.Tensor(204.79117, shape=(), dtype=float32)\n",
            "loss:  tf.Tensor(255.34827, shape=(), dtype=float32)\n",
            "loss:  tf.Tensor(313.50595, shape=(), dtype=float32)\n",
            "loss:  tf.Tensor(207.78488, shape=(), dtype=float32)\n",
            "loss:  tf.Tensor(288.65387, shape=(), dtype=float32)\n",
            "loss:  tf.Tensor(196.22336, shape=(), dtype=float32)\n",
            "loss:  tf.Tensor(195.32664, shape=(), dtype=float32)\n",
            "loss:  tf.Tensor(271.03302, shape=(), dtype=float32)\n",
            "loss:  tf.Tensor(231.32785, shape=(), dtype=float32)\n",
            "loss:  tf.Tensor(195.74545, shape=(), dtype=float32)\n",
            "loss:  tf.Tensor(234.73804, shape=(), dtype=float32)\n",
            "loss:  tf.Tensor(179.56879, shape=(), dtype=float32)\n",
            "avg loss tf.Tensor(241.82483, shape=(), dtype=float32)\n",
            "epoch:  5\n",
            "loss:  tf.Tensor(252.17581, shape=(), dtype=float32)\n",
            "loss:  tf.Tensor(241.0339, shape=(), dtype=float32)\n",
            "loss:  tf.Tensor(216.5291, shape=(), dtype=float32)\n",
            "loss:  tf.Tensor(198.46152, shape=(), dtype=float32)\n",
            "loss:  tf.Tensor(221.38867, shape=(), dtype=float32)\n",
            "loss:  tf.Tensor(218.83945, shape=(), dtype=float32)\n",
            "loss:  tf.Tensor(272.2788, shape=(), dtype=float32)\n",
            "loss:  tf.Tensor(274.66544, shape=(), dtype=float32)\n",
            "loss:  tf.Tensor(189.86493, shape=(), dtype=float32)\n",
            "loss:  tf.Tensor(221.22217, shape=(), dtype=float32)\n",
            "loss:  tf.Tensor(179.03699, shape=(), dtype=float32)\n",
            "loss:  tf.Tensor(164.00792, shape=(), dtype=float32)\n",
            "loss:  tf.Tensor(238.72363, shape=(), dtype=float32)\n",
            "loss:  tf.Tensor(206.65103, shape=(), dtype=float32)\n",
            "loss:  tf.Tensor(188.36435, shape=(), dtype=float32)\n",
            "loss:  tf.Tensor(212.91165, shape=(), dtype=float32)\n",
            "loss:  tf.Tensor(281.78323, shape=(), dtype=float32)\n",
            "loss:  tf.Tensor(266.8316, shape=(), dtype=float32)\n",
            "loss:  tf.Tensor(275.97818, shape=(), dtype=float32)\n",
            "loss:  tf.Tensor(234.78812, shape=(), dtype=float32)\n",
            "loss:  tf.Tensor(219.39534, shape=(), dtype=float32)\n",
            "loss:  tf.Tensor(237.59453, shape=(), dtype=float32)\n",
            "loss:  tf.Tensor(215.60864, shape=(), dtype=float32)\n",
            "loss:  tf.Tensor(190.73457, shape=(), dtype=float32)\n",
            "loss:  tf.Tensor(243.7344, shape=(), dtype=float32)\n",
            "loss:  tf.Tensor(238.1624, shape=(), dtype=float32)\n",
            "loss:  tf.Tensor(330.62695, shape=(), dtype=float32)\n",
            "loss:  tf.Tensor(266.16904, shape=(), dtype=float32)\n",
            "loss:  tf.Tensor(242.85396, shape=(), dtype=float32)\n",
            "loss:  tf.Tensor(231.09656, shape=(), dtype=float32)\n",
            "loss:  tf.Tensor(181.5052, shape=(), dtype=float32)\n",
            "loss:  tf.Tensor(207.1771, shape=(), dtype=float32)\n",
            "loss:  tf.Tensor(245.37607, shape=(), dtype=float32)\n",
            "loss:  tf.Tensor(233.43831, shape=(), dtype=float32)\n",
            "loss:  tf.Tensor(210.09761, shape=(), dtype=float32)\n",
            "loss:  tf.Tensor(197.12302, shape=(), dtype=float32)\n",
            "loss:  tf.Tensor(274.48972, shape=(), dtype=float32)\n",
            "loss:  tf.Tensor(179.29594, shape=(), dtype=float32)\n",
            "loss:  tf.Tensor(221.1825, shape=(), dtype=float32)\n",
            "loss:  tf.Tensor(276.76715, shape=(), dtype=float32)\n",
            "loss:  tf.Tensor(218.03336, shape=(), dtype=float32)\n",
            "loss:  tf.Tensor(238.78989, shape=(), dtype=float32)\n",
            "loss:  tf.Tensor(245.41992, shape=(), dtype=float32)\n",
            "loss:  tf.Tensor(308.70322, shape=(), dtype=float32)\n",
            "loss:  tf.Tensor(325.8434, shape=(), dtype=float32)\n",
            "loss:  tf.Tensor(292.49866, shape=(), dtype=float32)\n",
            "loss:  tf.Tensor(239.63962, shape=(), dtype=float32)\n",
            "loss:  tf.Tensor(234.26347, shape=(), dtype=float32)\n",
            "loss:  tf.Tensor(243.82512, shape=(), dtype=float32)\n",
            "loss:  tf.Tensor(287.47882, shape=(), dtype=float32)\n",
            "loss:  tf.Tensor(227.10674, shape=(), dtype=float32)\n",
            "loss:  tf.Tensor(233.92331, shape=(), dtype=float32)\n",
            "loss:  tf.Tensor(227.81258, shape=(), dtype=float32)\n",
            "loss:  tf.Tensor(190.45425, shape=(), dtype=float32)\n",
            "loss:  tf.Tensor(187.26334, shape=(), dtype=float32)\n",
            "loss:  tf.Tensor(183.64737, shape=(), dtype=float32)\n",
            "loss:  tf.Tensor(179.9689, shape=(), dtype=float32)\n",
            "loss:  tf.Tensor(187.10947, shape=(), dtype=float32)\n",
            "loss:  tf.Tensor(185.91475, shape=(), dtype=float32)\n",
            "loss:  tf.Tensor(153.72879, shape=(), dtype=float32)\n",
            "loss:  tf.Tensor(228.09273, shape=(), dtype=float32)\n",
            "loss:  tf.Tensor(171.58997, shape=(), dtype=float32)\n",
            "loss:  tf.Tensor(264.8331, shape=(), dtype=float32)\n",
            "loss:  tf.Tensor(170.85147, shape=(), dtype=float32)\n",
            "loss:  tf.Tensor(221.00468, shape=(), dtype=float32)\n",
            "loss:  tf.Tensor(214.87857, shape=(), dtype=float32)\n",
            "loss:  tf.Tensor(182.12685, shape=(), dtype=float32)\n",
            "loss:  tf.Tensor(182.6751, shape=(), dtype=float32)\n",
            "loss:  tf.Tensor(246.1501, shape=(), dtype=float32)\n",
            "loss:  tf.Tensor(144.69513, shape=(), dtype=float32)\n",
            "avg loss tf.Tensor(225.94698, shape=(), dtype=float32)\n",
            "epoch:  6\n",
            "loss:  tf.Tensor(185.31555, shape=(), dtype=float32)\n",
            "loss:  tf.Tensor(146.90796, shape=(), dtype=float32)\n",
            "loss:  tf.Tensor(237.87834, shape=(), dtype=float32)\n",
            "loss:  tf.Tensor(228.65219, shape=(), dtype=float32)\n",
            "loss:  tf.Tensor(270.71783, shape=(), dtype=float32)\n",
            "loss:  tf.Tensor(245.72217, shape=(), dtype=float32)\n",
            "loss:  tf.Tensor(285.87128, shape=(), dtype=float32)\n",
            "loss:  tf.Tensor(257.50555, shape=(), dtype=float32)\n",
            "loss:  tf.Tensor(255.6412, shape=(), dtype=float32)\n",
            "loss:  tf.Tensor(270.07593, shape=(), dtype=float32)\n",
            "loss:  tf.Tensor(276.34708, shape=(), dtype=float32)\n",
            "loss:  tf.Tensor(217.13016, shape=(), dtype=float32)\n",
            "loss:  tf.Tensor(347.32556, shape=(), dtype=float32)\n",
            "loss:  tf.Tensor(267.87256, shape=(), dtype=float32)\n",
            "loss:  tf.Tensor(338.02463, shape=(), dtype=float32)\n",
            "loss:  tf.Tensor(218.40567, shape=(), dtype=float32)\n",
            "loss:  tf.Tensor(299.02374, shape=(), dtype=float32)\n",
            "loss:  tf.Tensor(222.85017, shape=(), dtype=float32)\n",
            "loss:  tf.Tensor(198.18057, shape=(), dtype=float32)\n",
            "loss:  tf.Tensor(221.22774, shape=(), dtype=float32)\n",
            "loss:  tf.Tensor(227.42123, shape=(), dtype=float32)\n",
            "loss:  tf.Tensor(206.16501, shape=(), dtype=float32)\n",
            "loss:  tf.Tensor(188.65854, shape=(), dtype=float32)\n",
            "loss:  tf.Tensor(232.56682, shape=(), dtype=float32)\n",
            "loss:  tf.Tensor(242.63303, shape=(), dtype=float32)\n",
            "loss:  tf.Tensor(178.3331, shape=(), dtype=float32)\n",
            "loss:  tf.Tensor(189.28226, shape=(), dtype=float32)\n",
            "loss:  tf.Tensor(205.05339, shape=(), dtype=float32)\n",
            "loss:  tf.Tensor(160.24875, shape=(), dtype=float32)\n",
            "loss:  tf.Tensor(222.11722, shape=(), dtype=float32)\n",
            "loss:  tf.Tensor(211.04453, shape=(), dtype=float32)\n",
            "loss:  tf.Tensor(136.49149, shape=(), dtype=float32)\n",
            "loss:  tf.Tensor(177.13132, shape=(), dtype=float32)\n",
            "loss:  tf.Tensor(238.79745, shape=(), dtype=float32)\n",
            "loss:  tf.Tensor(199.2089, shape=(), dtype=float32)\n",
            "loss:  tf.Tensor(179.16365, shape=(), dtype=float32)\n",
            "loss:  tf.Tensor(251.86697, shape=(), dtype=float32)\n",
            "loss:  tf.Tensor(182.00842, shape=(), dtype=float32)\n",
            "loss:  tf.Tensor(193.43327, shape=(), dtype=float32)\n",
            "loss:  tf.Tensor(178.34221, shape=(), dtype=float32)\n",
            "loss:  tf.Tensor(293.20825, shape=(), dtype=float32)\n",
            "loss:  tf.Tensor(149.90129, shape=(), dtype=float32)\n",
            "loss:  tf.Tensor(260.66946, shape=(), dtype=float32)\n",
            "loss:  tf.Tensor(208.39156, shape=(), dtype=float32)\n",
            "loss:  tf.Tensor(276.8219, shape=(), dtype=float32)\n",
            "loss:  tf.Tensor(240.40201, shape=(), dtype=float32)\n",
            "loss:  tf.Tensor(226.63628, shape=(), dtype=float32)\n",
            "loss:  tf.Tensor(212.13228, shape=(), dtype=float32)\n",
            "loss:  tf.Tensor(287.98883, shape=(), dtype=float32)\n",
            "loss:  tf.Tensor(229.64584, shape=(), dtype=float32)\n",
            "loss:  tf.Tensor(199.33344, shape=(), dtype=float32)\n",
            "loss:  tf.Tensor(247.34824, shape=(), dtype=float32)\n",
            "loss:  tf.Tensor(221.79607, shape=(), dtype=float32)\n",
            "loss:  tf.Tensor(227.83809, shape=(), dtype=float32)\n",
            "loss:  tf.Tensor(235.21097, shape=(), dtype=float32)\n",
            "loss:  tf.Tensor(253.61214, shape=(), dtype=float32)\n",
            "loss:  tf.Tensor(228.46587, shape=(), dtype=float32)\n",
            "loss:  tf.Tensor(246.36581, shape=(), dtype=float32)\n",
            "loss:  tf.Tensor(195.98016, shape=(), dtype=float32)\n",
            "loss:  tf.Tensor(255.252, shape=(), dtype=float32)\n",
            "loss:  tf.Tensor(201.01346, shape=(), dtype=float32)\n",
            "loss:  tf.Tensor(206.66939, shape=(), dtype=float32)\n",
            "loss:  tf.Tensor(226.28659, shape=(), dtype=float32)\n",
            "loss:  tf.Tensor(246.37578, shape=(), dtype=float32)\n",
            "loss:  tf.Tensor(328.99734, shape=(), dtype=float32)\n",
            "loss:  tf.Tensor(248.7386, shape=(), dtype=float32)\n",
            "loss:  tf.Tensor(186.07437, shape=(), dtype=float32)\n",
            "loss:  tf.Tensor(200.15369, shape=(), dtype=float32)\n",
            "loss:  tf.Tensor(206.74768, shape=(), dtype=float32)\n",
            "loss:  tf.Tensor(207.04521, shape=(), dtype=float32)\n",
            "avg loss tf.Tensor(227.79636, shape=(), dtype=float32)\n",
            "epoch:  7\n",
            "loss:  tf.Tensor(171.41745, shape=(), dtype=float32)\n",
            "loss:  tf.Tensor(189.376, shape=(), dtype=float32)\n",
            "loss:  tf.Tensor(158.08566, shape=(), dtype=float32)\n",
            "loss:  tf.Tensor(151.47862, shape=(), dtype=float32)\n",
            "loss:  tf.Tensor(184.37029, shape=(), dtype=float32)\n",
            "loss:  tf.Tensor(233.13065, shape=(), dtype=float32)\n",
            "loss:  tf.Tensor(174.47847, shape=(), dtype=float32)\n",
            "loss:  tf.Tensor(191.98367, shape=(), dtype=float32)\n",
            "loss:  tf.Tensor(187.01907, shape=(), dtype=float32)\n",
            "loss:  tf.Tensor(199.27591, shape=(), dtype=float32)\n",
            "loss:  tf.Tensor(169.5513, shape=(), dtype=float32)\n",
            "loss:  tf.Tensor(240.66977, shape=(), dtype=float32)\n",
            "loss:  tf.Tensor(273.6206, shape=(), dtype=float32)\n",
            "loss:  tf.Tensor(284.88226, shape=(), dtype=float32)\n",
            "loss:  tf.Tensor(217.11923, shape=(), dtype=float32)\n",
            "loss:  tf.Tensor(293.2827, shape=(), dtype=float32)\n",
            "loss:  tf.Tensor(267.7637, shape=(), dtype=float32)\n",
            "loss:  tf.Tensor(329.71918, shape=(), dtype=float32)\n",
            "loss:  tf.Tensor(277.7798, shape=(), dtype=float32)\n",
            "loss:  tf.Tensor(238.21123, shape=(), dtype=float32)\n",
            "loss:  tf.Tensor(301.07568, shape=(), dtype=float32)\n",
            "loss:  tf.Tensor(308.67734, shape=(), dtype=float32)\n",
            "loss:  tf.Tensor(316.29034, shape=(), dtype=float32)\n",
            "loss:  tf.Tensor(331.6127, shape=(), dtype=float32)\n",
            "loss:  tf.Tensor(264.86053, shape=(), dtype=float32)\n",
            "loss:  tf.Tensor(313.39804, shape=(), dtype=float32)\n",
            "loss:  tf.Tensor(313.40265, shape=(), dtype=float32)\n",
            "loss:  tf.Tensor(272.93677, shape=(), dtype=float32)\n",
            "loss:  tf.Tensor(340.63995, shape=(), dtype=float32)\n",
            "loss:  tf.Tensor(253.11406, shape=(), dtype=float32)\n",
            "loss:  tf.Tensor(253.28581, shape=(), dtype=float32)\n",
            "loss:  tf.Tensor(330.6101, shape=(), dtype=float32)\n",
            "loss:  tf.Tensor(248.81364, shape=(), dtype=float32)\n",
            "loss:  tf.Tensor(306.53705, shape=(), dtype=float32)\n",
            "loss:  tf.Tensor(218.79924, shape=(), dtype=float32)\n",
            "loss:  tf.Tensor(237.5208, shape=(), dtype=float32)\n",
            "loss:  tf.Tensor(286.26105, shape=(), dtype=float32)\n",
            "loss:  tf.Tensor(252.11942, shape=(), dtype=float32)\n",
            "loss:  tf.Tensor(187.38626, shape=(), dtype=float32)\n",
            "loss:  tf.Tensor(245.61682, shape=(), dtype=float32)\n",
            "loss:  tf.Tensor(240.24814, shape=(), dtype=float32)\n",
            "loss:  tf.Tensor(228.2034, shape=(), dtype=float32)\n",
            "loss:  tf.Tensor(145.14754, shape=(), dtype=float32)\n",
            "loss:  tf.Tensor(194.67091, shape=(), dtype=float32)\n",
            "loss:  tf.Tensor(141.62683, shape=(), dtype=float32)\n",
            "loss:  tf.Tensor(158.31546, shape=(), dtype=float32)\n",
            "loss:  tf.Tensor(245.13672, shape=(), dtype=float32)\n",
            "loss:  tf.Tensor(203.62971, shape=(), dtype=float32)\n",
            "loss:  tf.Tensor(326.88055, shape=(), dtype=float32)\n",
            "loss:  tf.Tensor(181.8498, shape=(), dtype=float32)\n",
            "loss:  tf.Tensor(194.99438, shape=(), dtype=float32)\n",
            "loss:  tf.Tensor(181.57817, shape=(), dtype=float32)\n",
            "loss:  tf.Tensor(241.64326, shape=(), dtype=float32)\n",
            "loss:  tf.Tensor(233.65437, shape=(), dtype=float32)\n",
            "loss:  tf.Tensor(296.6463, shape=(), dtype=float32)\n",
            "loss:  tf.Tensor(277.612, shape=(), dtype=float32)\n",
            "loss:  tf.Tensor(267.76508, shape=(), dtype=float32)\n",
            "loss:  tf.Tensor(277.2084, shape=(), dtype=float32)\n",
            "loss:  tf.Tensor(243.53996, shape=(), dtype=float32)\n",
            "loss:  tf.Tensor(230.72656, shape=(), dtype=float32)\n",
            "loss:  tf.Tensor(259.0747, shape=(), dtype=float32)\n",
            "loss:  tf.Tensor(275.27734, shape=(), dtype=float32)\n",
            "loss:  tf.Tensor(239.96902, shape=(), dtype=float32)\n",
            "loss:  tf.Tensor(273.61826, shape=(), dtype=float32)\n",
            "loss:  tf.Tensor(278.6433, shape=(), dtype=float32)\n",
            "loss:  tf.Tensor(269.7255, shape=(), dtype=float32)\n",
            "loss:  tf.Tensor(312.4792, shape=(), dtype=float32)\n",
            "loss:  tf.Tensor(285.74722, shape=(), dtype=float32)\n",
            "loss:  tf.Tensor(236.85739, shape=(), dtype=float32)\n",
            "loss:  tf.Tensor(279.8238, shape=(), dtype=float32)\n",
            "avg loss tf.Tensor(246.26384, shape=(), dtype=float32)\n",
            "epoch:  8\n",
            "loss:  tf.Tensor(223.62053, shape=(), dtype=float32)\n",
            "loss:  tf.Tensor(340.18637, shape=(), dtype=float32)\n",
            "loss:  tf.Tensor(311.82678, shape=(), dtype=float32)\n",
            "loss:  tf.Tensor(256.72797, shape=(), dtype=float32)\n",
            "loss:  tf.Tensor(239.59006, shape=(), dtype=float32)\n",
            "loss:  tf.Tensor(336.66568, shape=(), dtype=float32)\n",
            "loss:  tf.Tensor(276.5711, shape=(), dtype=float32)\n",
            "loss:  tf.Tensor(228.98738, shape=(), dtype=float32)\n",
            "loss:  tf.Tensor(288.06293, shape=(), dtype=float32)\n",
            "loss:  tf.Tensor(237.33188, shape=(), dtype=float32)\n",
            "loss:  tf.Tensor(285.7196, shape=(), dtype=float32)\n",
            "loss:  tf.Tensor(247.83243, shape=(), dtype=float32)\n",
            "loss:  tf.Tensor(268.687, shape=(), dtype=float32)\n",
            "loss:  tf.Tensor(169.8809, shape=(), dtype=float32)\n",
            "loss:  tf.Tensor(193.93478, shape=(), dtype=float32)\n",
            "loss:  tf.Tensor(182.19911, shape=(), dtype=float32)\n",
            "loss:  tf.Tensor(231.34416, shape=(), dtype=float32)\n",
            "loss:  tf.Tensor(193.86163, shape=(), dtype=float32)\n",
            "loss:  tf.Tensor(183.17334, shape=(), dtype=float32)\n",
            "loss:  tf.Tensor(148.54799, shape=(), dtype=float32)\n",
            "loss:  tf.Tensor(149.60591, shape=(), dtype=float32)\n",
            "loss:  tf.Tensor(144.88144, shape=(), dtype=float32)\n",
            "loss:  tf.Tensor(141.75859, shape=(), dtype=float32)\n",
            "loss:  tf.Tensor(119.66615, shape=(), dtype=float32)\n",
            "loss:  tf.Tensor(185.56094, shape=(), dtype=float32)\n",
            "loss:  tf.Tensor(145.81071, shape=(), dtype=float32)\n",
            "loss:  tf.Tensor(275.62848, shape=(), dtype=float32)\n",
            "loss:  tf.Tensor(160.44688, shape=(), dtype=float32)\n",
            "loss:  tf.Tensor(211.20187, shape=(), dtype=float32)\n",
            "loss:  tf.Tensor(214.61336, shape=(), dtype=float32)\n",
            "loss:  tf.Tensor(278.58475, shape=(), dtype=float32)\n",
            "loss:  tf.Tensor(nan, shape=(), dtype=float32)\n",
            "avg loss tf.Tensor(nan, shape=(), dtype=float32)\n",
            "epoch:  9\n",
            "loss:  tf.Tensor(nan, shape=(), dtype=float32)\n",
            "avg loss tf.Tensor(nan, shape=(), dtype=float32)\n"
          ]
        }
      ]
    },
    {
      "cell_type": "code",
      "source": [
        "final_checkpoint.write(final_file)"
      ],
      "metadata": {
        "colab": {
          "base_uri": "https://localhost:8080/",
          "height": 35
        },
        "id": "T2JVKEaoxyUk",
        "outputId": "c5bb3404-4787-4e8c-9ac9-f87921f8b541"
      },
      "execution_count": null,
      "outputs": [
        {
          "output_type": "execute_result",
          "data": {
            "application/vnd.google.colaboratory.intrinsic+json": {
              "type": "string"
            },
            "text/plain": [
              "'/content/drive/MyDrive/Colab_Notebooks/pesos_transformer'"
            ]
          },
          "metadata": {},
          "execution_count": 114
        }
      ]
    },
    {
      "cell_type": "code",
      "source": [
        "def transform_deltas_to_traj(delta_traj, start):\n",
        "  traj = np.cumsum(delta_traj, axis=0) + start\n",
        "  traj = np.concatenate((start[np.newaxis, :, :], traj))\n",
        "  return traj"
      ],
      "metadata": {
        "id": "E5uo-NTF1MeG"
      },
      "execution_count": null,
      "outputs": []
    },
    {
      "cell_type": "code",
      "source": [
        "import matplotlib.pyplot as plt\n",
        "import matplotlib.patches as mpatches\n",
        "%matplotlib inline\n",
        "\n",
        "def plot_multiple_trajs(agent_trajs, axis):\n",
        "    agent_trajs = agent_trajs/2 \n",
        "    # figure and scatter plot\n",
        "    neighbors_first = np.transpose(agent_trajs, [1, 0, 2])\n",
        "    markers = ['o', 10, 's', 'p', '1', '*', 'X', 'D', 4, 'd']\n",
        "    colors = ['red', 'blue', 'darkgreen', 'chocolate', 'midnightblue', 'purple', 'brown', 'orange', 'skyblue', 'pink']\n",
        "    for agent_traj, marker, color in zip(neighbors_first, markers, colors):\n",
        "        axis.scatter(agent_traj[:, 0], agent_traj[:, 1], marker=marker, color=color)\n",
        "    \n",
        "    # compute normalized directions \n",
        "    dirs = neighbors_first[:, 1:, :2] - neighbors_first[:, :-1, :2]\n",
        "    norms = np.sqrt(np.sum(dirs**2, axis=2))\n",
        "    # do not normalize if norm < 1, to avoid rescailing the vector larger than the real target point\n",
        "    norms = (norms>1) * norms + (norms<1) \n",
        "    dirs = dirs / norms[:, :, np.newaxis]\n",
        "    \n",
        "    #plot directions\n",
        "    for neighbor, neigh_dirs in zip(neighbors_first, dirs):\n",
        "        for (step, step_dir) in zip(neighbor, neigh_dirs):\n",
        "            x, y = step[0], step[1]\n",
        "            dx, dy = step_dir\n",
        "            if dx == 0 and dy == 0:\n",
        "                continue\n",
        "            axis.arrow(x, y, dx, dy, length_includes_head=True, head_width=0.6*np.abs(dy), head_length=np.abs(0.5*(dx+dy)/2))"
      ],
      "metadata": {
        "id": "jM_iaY_R1NXM"
      },
      "execution_count": null,
      "outputs": []
    },
    {
      "cell_type": "code",
      "source": [
        "ld = list(dataset)"
      ],
      "metadata": {
        "id": "a78xh9Ibyi_J"
      },
      "execution_count": null,
      "outputs": []
    },
    {
      "cell_type": "code",
      "source": [
        "n = np.random.choice(len(ld))\n",
        "inputs = ld[n][1]\n",
        "mask = ld[n][2]\n",
        "s_mask = ld[n][3]\n",
        "tar = ld[n][4]\n",
        "seq_mask = tf.squeeze(ld[n][6])\n",
        "neig_mask = tf.squeeze(ld[n][5])\n",
        "\n",
        "# divide input as the trajectory input, and target (basically past and future to predict) \n",
        "out = model((inputs, mask, s_mask, tar, t_mask, st_mask), training=False)"
      ],
      "metadata": {
        "id": "7EfAfchgyq7J"
      },
      "execution_count": null,
      "outputs": []
    },
    {
      "cell_type": "code",
      "source": [
        "m = np.random.choice(len(tar))\n",
        "tf.transpose(tar[:, :, :, :2], [0, 2, 1, 3])[m, 0]"
      ],
      "metadata": {
        "colab": {
          "base_uri": "https://localhost:8080/"
        },
        "id": "vsik5UERiKTe",
        "outputId": "0342d3a8-735b-4667-d387-06c2200c2a79"
      },
      "execution_count": null,
      "outputs": [
        {
          "output_type": "execute_result",
          "data": {
            "text/plain": [
              "<tf.Tensor: shape=(8, 2), dtype=float64, numpy=\n",
              "array([[ 21.108,  -7.817],\n",
              "       [ 24.846,  -9.747],\n",
              "       [ 28.584, -11.676],\n",
              "       [ 32.364, -13.707],\n",
              "       [ 36.415, -15.875],\n",
              "       [ 40.466, -18.044],\n",
              "       [ 44.785, -20.388],\n",
              "       [ 49.105, -22.732]])>"
            ]
          },
          "metadata": {},
          "execution_count": 155
        }
      ]
    },
    {
      "cell_type": "code",
      "source": [
        "fig, axs = plt.subplots(nrows=1, ncols=1, figsize=(15, 15))\n",
        "plot_multiple_trajs(tar[m], axs)"
      ],
      "metadata": {
        "colab": {
          "base_uri": "https://localhost:8080/",
          "height": 866
        },
        "id": "CQMjpzLt1q1x",
        "outputId": "8747747c-d286-439a-b9fa-cc15d035cb06"
      },
      "execution_count": null,
      "outputs": [
        {
          "output_type": "display_data",
          "data": {
            "text/plain": [
              "<Figure size 1080x1080 with 1 Axes>"
            ],
            "image/png": "[encoded data removed]"
          },
          "metadata": {
            "needs_background": "light"
          }
        }
      ]
    },
    {
      "cell_type": "code",
      "source": [
        "tf.transpose(out, [0, 2, 1, 3])[m, 0]"
      ],
      "metadata": {
        "colab": {
          "base_uri": "https://localhost:8080/"
        },
        "id": "PLIovSW0itxx",
        "outputId": "b8fe5fe7-300f-48ea-8081-19f5f34284ef"
      },
      "execution_count": null,
      "outputs": [
        {
          "output_type": "execute_result",
          "data": {
            "text/plain": [
              "<tf.Tensor: shape=(8, 2), dtype=float32, numpy=\n",
              "array([[ 0.16314337, -0.31933418],\n",
              "       [ 0.15917733, -0.22003624],\n",
              "       [ 0.16289362, -0.31896484],\n",
              "       [ 0.16269554, -0.3196802 ],\n",
              "       [ 0.16254549, -0.31973362],\n",
              "       [ 0.16930872, -0.5610455 ],\n",
              "       [ 0.16284996, -0.3235481 ],\n",
              "       [ 0.16354369, -0.3179461 ]], dtype=float32)>"
            ]
          },
          "metadata": {},
          "execution_count": 115
        }
      ]
    },
    {
      "cell_type": "code",
      "source": [
        "np.cumsum(tf.transpose(out * tf.constant([[[[std_x, std_y]]]], dtype=tf.float32), [0, 2, 1, 3])[m, 0], axis=0)"
      ],
      "metadata": {
        "colab": {
          "base_uri": "https://localhost:8080/"
        },
        "id": "3SGk-I1M8TOZ",
        "outputId": "e13343b8-e024-48b7-bbd5-64d186e0dded"
      },
      "execution_count": null,
      "outputs": [
        {
          "output_type": "execute_result",
          "data": {
            "text/plain": [
              "array([[  1.1348197,  -1.9270395],\n",
              "       [  2.242052 ,  -3.2548602],\n",
              "       [  3.3751347,  -5.179671 ],\n",
              "       [  4.5068393,  -7.1087985],\n",
              "       [  5.6375003,  -9.038248 ],\n",
              "       [  6.815206 , -12.423908 ],\n",
              "       [  7.9479847, -14.376377 ],\n",
              "       [  9.085589 , -16.29504  ]], dtype=float32)"
            ]
          },
          "metadata": {},
          "execution_count": 121
        }
      ]
    },
    {
      "cell_type": "code",
      "source": [
        "pred = out * tf.constant([[[[std_x, std_y]]]], dtype=tf.float32)\n",
        "\n",
        "seq_mask_array = 1 - seq_mask\n",
        "neighbors_mask = 1 - neig_mask\n",
        "\n",
        "seq_mask_array = seq_mask_array[:, :, np.newaxis, np.newaxis]\n",
        "neighbors_mask = neighbors_mask[:, :, :, np.newaxis]\n",
        "\n",
        "pred_masked = pred * seq_mask_array\n",
        "pred_masked = pred_masked * neighbors_mask\n",
        "\n",
        "pred = transform_deltas_to_traj(pred_masked[m], tar[m, 0, :, :2])"
      ],
      "metadata": {
        "id": "KNUL8Ql7ztE2"
      },
      "execution_count": null,
      "outputs": []
    },
    {
      "cell_type": "code",
      "source": [
        "np.transpose(pred, [1, 0, 2])"
      ],
      "metadata": {
        "id": "CbiPUfFF5VER"
      },
      "execution_count": null,
      "outputs": []
    },
    {
      "cell_type": "code",
      "source": [
        "fig, axs = plt.subplots(nrows=1, ncols=1, figsize=(15, 15))\n",
        "plot_multiple_trajs(pred, axs)"
      ],
      "metadata": {
        "colab": {
          "base_uri": "https://localhost:8080/",
          "height": 866
        },
        "id": "rP2jZ2qK3fKL",
        "outputId": "5cadf687-9dca-48d3-ebbd-fcabdece30c3"
      },
      "execution_count": null,
      "outputs": [
        {
          "output_type": "display_data",
          "data": {
            "text/plain": [
              "<Figure size 1080x1080 with 1 Axes>"
            ],
            "image/png": "[encoded data removed]"
          },
          "metadata": {
            "needs_background": "light"
          }
        }
      ]
    },
    {
      "cell_type": "code",
      "source": [
        "neigh_mask = 1-neig_mask\n",
        "pred = out[0] * neigh_mask[0][:, :, np.newaxis]"
      ],
      "metadata": {
        "id": "cTAg0YO_zmOQ"
      },
      "execution_count": null,
      "outputs": []
    },
    {
      "cell_type": "code",
      "source": [
        "tar_t = tf.transpose(tar[0,:,:, :3], [1, 0, 2])[:, :, :2]\n",
        "pred_t = tf.transpose(pred, [1,0,2])[:, :, :2]"
      ],
      "metadata": {
        "id": "V5mBC2JOsTfd"
      },
      "execution_count": null,
      "outputs": []
    },
    {
      "cell_type": "code",
      "source": [
        "ADE(tar_t.numpy(), pred_t.numpy())"
      ],
      "metadata": {
        "colab": {
          "base_uri": "https://localhost:8080/"
        },
        "id": "GJ9HKvSjtCoM",
        "outputId": "bd1c1309-f17e-46b7-b614-9b6da838ce15"
      },
      "execution_count": null,
      "outputs": [
        {
          "output_type": "execute_result",
          "data": {
            "text/plain": [
              "10.687851"
            ]
          },
          "metadata": {},
          "execution_count": 151
        }
      ]
    },
    {
      "cell_type": "markdown",
      "source": [
        "# Testing functions"
      ],
      "metadata": {
        "id": "7fnl4A2rpBQv"
      }
    },
    {
      "cell_type": "code",
      "source": [
        "for i in range(len(cubes)):\n",
        "  for j in range(len(cubes[i][0])):\n",
        "    for k in range(len(cubes[i][0][j])):\n",
        "      for l in range(len(cubes[i][0][j][k])):\n",
        "        if np.isnan(cubes[i][0][j][k][l]):\n",
        "          cubes[i][0][j][k][l] = 0.0      \n"
      ],
      "metadata": {
        "id": "0kov85YG8tVU"
      },
      "execution_count": null,
      "outputs": []
    },
    {
      "cell_type": "code",
      "source": [
        "all_inps = [x[3] for x in cubes]\n",
        "for inp in all_inps:\n",
        "  for face in inp:\n",
        "    for row in face:\n",
        "      for el in row:\n",
        "        if np.isnan(el):\n",
        "          print('WHAAAAT')"
      ],
      "metadata": {
        "id": "i2yjv0GHqo0u"
      },
      "execution_count": null,
      "outputs": []
    }
  ]
}