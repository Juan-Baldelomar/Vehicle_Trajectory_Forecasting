{
 "cells": [
  {
   "cell_type": "code",
   "execution_count": 1,
   "metadata": {},
   "outputs": [],
   "source": [
    "import sys\n",
    "import numpy as np\n",
    "import matplotlib.pyplot as plt\n",
    "import matplotlib.patches as mpatches\n",
    "%matplotlib inline\n",
    "\n",
    "sys.path.append('../utils/')\n",
    "from dataloader import load_pkl_data"
   ]
  },
  {
   "cell_type": "code",
   "execution_count": 232,
   "metadata": {},
   "outputs": [],
   "source": [
    "def plot_traj(agent_traj):\n",
    "    # figure and scatter plot\n",
    "    fig, axs = plt.subplots(nrows=1, ncols=1, figsize=(10, 10))\n",
    "    axs.scatter(agent_traj[:, 0], agent_traj[:, 1])\n",
    "    \n",
    "    # compute normalized directions \n",
    "    dirs = agent_traj[1:, :2] - agent_traj[:-1,:2]\n",
    "    norms = np.sqrt(np.sum(dirs**2, axis=1))\n",
    "    dirs = dirs / norms[:, np.newaxis]\n",
    "    \n",
    "    # plot directions\n",
    "    for step, step_dir in zip(agent_traj, dirs):\n",
    "        x, y, yaw = step[0], step[1], step[2] * 180/np.pi\n",
    "        dx, dy = step_dir\n",
    "        if dx == 0 and dy == 0:\n",
    "            continue\n",
    "        axs.arrow(x, y, dx, dy, length_includes_head=True, head_width=0.6*np.abs(dy), head_length=np.abs(0.5*(dx+dy)/2))\n",
    "    \n",
    "    #axs.annotate(\"\", xy=(0.5, 0.5), xytext=(0, 0), arrowprops=dict(arrowstyle=\"->\"))"
   ]
  },
  {
   "cell_type": "code",
   "execution_count": 33,
   "metadata": {},
   "outputs": [],
   "source": [
    "agents_trajs = load_pkl_data('../utils/nusc_inps.pkl')"
   ]
  },
  {
   "cell_type": "code",
   "execution_count": 237,
   "metadata": {},
   "outputs": [],
   "source": [
    "k = np.random.choice(len(agents_trajs))\n",
    "inp, inp_mask, tar, tar_mask = agents_trajs[k]\n",
    "tar, tar_mask = tar[1: ], tar_mask[1: ]\n",
    "inp_pos = np.argmax((inp_mask == 1)) \n",
    "tar_pos = np.argmax((tar_mask == 1))\n",
    "\n",
    "tar_pos = len(tar) if tar_mask[tar_pos] == 0 else tar_pos \n",
    "traj = np.row_stack((inp[:inp_pos, :], tar[:tar_pos, :]))"
   ]
  },
  {
   "cell_type": "code",
   "execution_count": 236,
   "metadata": {},
   "outputs": [
    {
     "data": {
      "text/plain": [
       "array([[-30.87785376,  23.61352854],\n",
       "       [-30.80585376,  23.61152854],\n",
       "       [-30.73485376,  23.60952854],\n",
       "       [-30.66285376,  23.60752854],\n",
       "       [-30.60485376,  23.60652854],\n",
       "       [-30.53285376,  23.60452854],\n",
       "       [-30.61985376,  23.60752854],\n",
       "       [-30.70685376,  23.61052854],\n",
       "       [-30.77885376,  23.61252854],\n",
       "       [-30.55085376,  23.60452854],\n",
       "       [-30.32185376,  23.59752854],\n",
       "       [-30.09385376,  23.58952854],\n",
       "       [-29.29885376,  23.56152854],\n",
       "       [-28.50485376,  23.53252854],\n",
       "       [-27.71085376,  23.50452854]])"
      ]
     },
     "execution_count": 236,
     "metadata": {},
     "output_type": "execute_result"
    }
   ],
   "source": [
    "traj[:, :2]"
   ]
  },
  {
   "cell_type": "code",
   "execution_count": 238,
   "metadata": {},
   "outputs": [
    {
     "data": {
      "image/png": "[encoded data removed]",
      "text/plain": [
       "<Figure size 720x720 with 1 Axes>"
      ]
     },
     "metadata": {
      "needs_background": "light"
     },
     "output_type": "display_data"
    }
   ],
   "source": [
    "plot_traj(traj)"
   ]
  },
  {
   "cell_type": "code",
   "execution_count": 24,
   "metadata": {},
   "outputs": [],
   "source": [
    "def argsort(x):\n",
    "    index  = [i for i, _ in enumerate(x)]\n",
    "    return sorted(index, key= lambda v:x[v])"
   ]
  },
  {
   "cell_type": "code",
   "execution_count": 26,
   "metadata": {},
   "outputs": [
    {
     "data": {
      "text/plain": [
       "[4, 0, 2, 1, 3]"
      ]
     },
     "execution_count": 26,
     "metadata": {},
     "output_type": "execute_result"
    }
   ],
   "source": [
    "argsort([0, 2, 1, 4, -5])"
   ]
  }
 ],
 "metadata": {
  "kernelspec": {
   "display_name": "Python 3.7.10 64-bit ('nuscenes': conda)",
   "language": "python",
   "name": "python3710jvsc74a57bd0f4c47f0f72d8632f46260e3cb07e1631ff50350116d852ad71ec264d33eb9227"
  },
  "language_info": {
   "codemirror_mode": {
    "name": "ipython",
    "version": 3
   },
   "file_extension": ".py",
   "mimetype": "text/x-python",
   "name": "python",
   "nbconvert_exporter": "python",
   "pygments_lexer": "ipython3",
   "version": "3.9.6"
  }
 },
 "nbformat": 4,
 "nbformat_minor": 4
}
